{
 "cells": [
  {
   "cell_type": "code",
   "execution_count": 1,
   "metadata": {},
   "outputs": [],
   "source": [
    "import pandas as pd\n",
    "import numpy as np\n",
    "import matplotlib.pyplot as plt\n",
    "%matplotlib inline\n",
    "import seaborn as sns\n",
    "import re\n",
    "import scipy.stats as stats\n",
    "import datetime\n",
    "from scipy.stats import zscore"
   ]
  },
  {
   "cell_type": "code",
   "execution_count": 2,
   "metadata": {},
   "outputs": [],
   "source": [
    "data=pd.read_csv(\"C:/Users/Prithvi Shetty/Downloads/Google App Project/Project Final/archive/Google-Playstore.csv\")"
   ]
  },
  {
   "cell_type": "code",
   "execution_count": null,
   "metadata": {},
   "outputs": [],
   "source": []
  },
  {
   "cell_type": "code",
   "execution_count": null,
   "metadata": {},
   "outputs": [],
   "source": []
  },
  {
   "cell_type": "code",
   "execution_count": 3,
   "metadata": {
    "scrolled": true
   },
   "outputs": [
    {
     "data": {
      "text/html": [
       "<div>\n",
       "<style scoped>\n",
       "    .dataframe tbody tr th:only-of-type {\n",
       "        vertical-align: middle;\n",
       "    }\n",
       "\n",
       "    .dataframe tbody tr th {\n",
       "        vertical-align: top;\n",
       "    }\n",
       "\n",
       "    .dataframe thead th {\n",
       "        text-align: right;\n",
       "    }\n",
       "</style>\n",
       "<table border=\"1\" class=\"dataframe\">\n",
       "  <thead>\n",
       "    <tr style=\"text-align: right;\">\n",
       "      <th></th>\n",
       "      <th>App Name</th>\n",
       "      <th>App Id</th>\n",
       "      <th>Category</th>\n",
       "      <th>Rating</th>\n",
       "      <th>Rating Count</th>\n",
       "      <th>Installs</th>\n",
       "      <th>Minimum Installs</th>\n",
       "      <th>Maximum Installs</th>\n",
       "      <th>Free</th>\n",
       "      <th>Price</th>\n",
       "      <th>Currency</th>\n",
       "      <th>Size</th>\n",
       "      <th>Minimum Android</th>\n",
       "      <th>Developer Id</th>\n",
       "      <th>Developer Website</th>\n",
       "      <th>Developer Email</th>\n",
       "      <th>Released</th>\n",
       "      <th>Last Updated</th>\n",
       "      <th>Content Rating</th>\n",
       "      <th>Privacy Policy</th>\n",
       "      <th>Ad Supported</th>\n",
       "      <th>In App Purchases</th>\n",
       "      <th>Editors Choice</th>\n",
       "    </tr>\n",
       "  </thead>\n",
       "  <tbody>\n",
       "    <tr>\n",
       "      <th>0</th>\n",
       "      <td>HTTrack Website Copier</td>\n",
       "      <td>com.httrack.android</td>\n",
       "      <td>Communication</td>\n",
       "      <td>3.6</td>\n",
       "      <td>2848.0</td>\n",
       "      <td>100,000+</td>\n",
       "      <td>100000.0</td>\n",
       "      <td>351560</td>\n",
       "      <td>True</td>\n",
       "      <td>0.0</td>\n",
       "      <td>USD</td>\n",
       "      <td>2.7M</td>\n",
       "      <td>2.3 and up</td>\n",
       "      <td>Xavier Roche</td>\n",
       "      <td>http://www.httrack.com/</td>\n",
       "      <td>roche+android@httrack.com</td>\n",
       "      <td>Aug 12, 2013</td>\n",
       "      <td>May 20, 2017</td>\n",
       "      <td>Everyone</td>\n",
       "      <td>http://android.httrack.com/privacy-policy.html</td>\n",
       "      <td>False</td>\n",
       "      <td>False</td>\n",
       "      <td>False</td>\n",
       "    </tr>\n",
       "    <tr>\n",
       "      <th>1</th>\n",
       "      <td>World War 2: Offline Strategy</td>\n",
       "      <td>com.skizze.wwii</td>\n",
       "      <td>Strategy</td>\n",
       "      <td>4.3</td>\n",
       "      <td>17297.0</td>\n",
       "      <td>1,000,000+</td>\n",
       "      <td>1000000.0</td>\n",
       "      <td>2161778</td>\n",
       "      <td>True</td>\n",
       "      <td>0.0</td>\n",
       "      <td>USD</td>\n",
       "      <td>86M</td>\n",
       "      <td>5.1 and up</td>\n",
       "      <td>Skizze Games</td>\n",
       "      <td>http://stereo7.com/</td>\n",
       "      <td>Skizze.Games@gmail.com</td>\n",
       "      <td>Jul 19, 2018</td>\n",
       "      <td>Nov 26, 2020</td>\n",
       "      <td>Everyone 10+</td>\n",
       "      <td>https://www.iubenda.com/privacy-policy/8032781</td>\n",
       "      <td>True</td>\n",
       "      <td>True</td>\n",
       "      <td>False</td>\n",
       "    </tr>\n",
       "    <tr>\n",
       "      <th>2</th>\n",
       "      <td>WPSApp</td>\n",
       "      <td>com.themausoft.wpsapp</td>\n",
       "      <td>Tools</td>\n",
       "      <td>4.2</td>\n",
       "      <td>488639.0</td>\n",
       "      <td>50,000,000+</td>\n",
       "      <td>50000000.0</td>\n",
       "      <td>79304739</td>\n",
       "      <td>True</td>\n",
       "      <td>0.0</td>\n",
       "      <td>USD</td>\n",
       "      <td>5.8M</td>\n",
       "      <td>4.1 and up</td>\n",
       "      <td>TheMauSoft</td>\n",
       "      <td>http://www.themausoft.com</td>\n",
       "      <td>wpsapp.app@gmail.com</td>\n",
       "      <td>Mar 7, 2016</td>\n",
       "      <td>Oct 21, 2020</td>\n",
       "      <td>Everyone</td>\n",
       "      <td>https://sites.google.com/view/wpsapppolicy/main</td>\n",
       "      <td>True</td>\n",
       "      <td>False</td>\n",
       "      <td>False</td>\n",
       "    </tr>\n",
       "    <tr>\n",
       "      <th>3</th>\n",
       "      <td>OfficeSuite - Office, PDF, Word, Excel, PowerP...</td>\n",
       "      <td>com.mobisystems.office</td>\n",
       "      <td>Business</td>\n",
       "      <td>4.2</td>\n",
       "      <td>1224420.0</td>\n",
       "      <td>100,000,000+</td>\n",
       "      <td>100000000.0</td>\n",
       "      <td>163660067</td>\n",
       "      <td>True</td>\n",
       "      <td>0.0</td>\n",
       "      <td>USD</td>\n",
       "      <td>59M</td>\n",
       "      <td>4.4 and up</td>\n",
       "      <td>MobiSystems</td>\n",
       "      <td>http://www.mobisystems.com</td>\n",
       "      <td>support-officesuite-android@mobisystems.com</td>\n",
       "      <td>Dec 22, 2011</td>\n",
       "      <td>Nov 23, 2020</td>\n",
       "      <td>Everyone</td>\n",
       "      <td>http://www.mobisystems.com/mobile/privacy-poli...</td>\n",
       "      <td>True</td>\n",
       "      <td>True</td>\n",
       "      <td>False</td>\n",
       "    </tr>\n",
       "    <tr>\n",
       "      <th>4</th>\n",
       "      <td>Loud Player Free</td>\n",
       "      <td>com.arthelion.loudplayer</td>\n",
       "      <td>Music &amp; Audio</td>\n",
       "      <td>4.2</td>\n",
       "      <td>665.0</td>\n",
       "      <td>50,000+</td>\n",
       "      <td>50000.0</td>\n",
       "      <td>73463</td>\n",
       "      <td>True</td>\n",
       "      <td>0.0</td>\n",
       "      <td>USD</td>\n",
       "      <td>29M</td>\n",
       "      <td>5.0 and up</td>\n",
       "      <td>Arthelion92</td>\n",
       "      <td>http://www.arthelion.com</td>\n",
       "      <td>arthelion92@gmail.com</td>\n",
       "      <td>Sep 24, 2016</td>\n",
       "      <td>Nov 22, 2020</td>\n",
       "      <td>Everyone</td>\n",
       "      <td>http://www.arthelion.com/index.php/fr/android-...</td>\n",
       "      <td>False</td>\n",
       "      <td>False</td>\n",
       "      <td>False</td>\n",
       "    </tr>\n",
       "  </tbody>\n",
       "</table>\n",
       "</div>"
      ],
      "text/plain": [
       "                                            App Name  \\\n",
       "0                             HTTrack Website Copier   \n",
       "1                      World War 2: Offline Strategy   \n",
       "2                                             WPSApp   \n",
       "3  OfficeSuite - Office, PDF, Word, Excel, PowerP...   \n",
       "4                                   Loud Player Free   \n",
       "\n",
       "                     App Id       Category  Rating  Rating Count  \\\n",
       "0       com.httrack.android  Communication     3.6        2848.0   \n",
       "1           com.skizze.wwii       Strategy     4.3       17297.0   \n",
       "2     com.themausoft.wpsapp          Tools     4.2      488639.0   \n",
       "3    com.mobisystems.office       Business     4.2     1224420.0   \n",
       "4  com.arthelion.loudplayer  Music & Audio     4.2         665.0   \n",
       "\n",
       "       Installs  Minimum Installs  Maximum Installs  Free  Price Currency  \\\n",
       "0      100,000+          100000.0            351560  True    0.0      USD   \n",
       "1    1,000,000+         1000000.0           2161778  True    0.0      USD   \n",
       "2   50,000,000+        50000000.0          79304739  True    0.0      USD   \n",
       "3  100,000,000+       100000000.0         163660067  True    0.0      USD   \n",
       "4       50,000+           50000.0             73463  True    0.0      USD   \n",
       "\n",
       "   Size Minimum Android  Developer Id           Developer Website  \\\n",
       "0  2.7M      2.3 and up  Xavier Roche     http://www.httrack.com/   \n",
       "1   86M      5.1 and up  Skizze Games         http://stereo7.com/   \n",
       "2  5.8M      4.1 and up    TheMauSoft   http://www.themausoft.com   \n",
       "3   59M      4.4 and up   MobiSystems  http://www.mobisystems.com   \n",
       "4   29M      5.0 and up   Arthelion92    http://www.arthelion.com   \n",
       "\n",
       "                               Developer Email      Released  Last Updated  \\\n",
       "0                    roche+android@httrack.com  Aug 12, 2013  May 20, 2017   \n",
       "1                       Skizze.Games@gmail.com  Jul 19, 2018  Nov 26, 2020   \n",
       "2                         wpsapp.app@gmail.com   Mar 7, 2016  Oct 21, 2020   \n",
       "3  support-officesuite-android@mobisystems.com  Dec 22, 2011  Nov 23, 2020   \n",
       "4                        arthelion92@gmail.com  Sep 24, 2016  Nov 22, 2020   \n",
       "\n",
       "  Content Rating                                     Privacy Policy  \\\n",
       "0       Everyone     http://android.httrack.com/privacy-policy.html   \n",
       "1   Everyone 10+     https://www.iubenda.com/privacy-policy/8032781   \n",
       "2       Everyone    https://sites.google.com/view/wpsapppolicy/main   \n",
       "3       Everyone  http://www.mobisystems.com/mobile/privacy-poli...   \n",
       "4       Everyone  http://www.arthelion.com/index.php/fr/android-...   \n",
       "\n",
       "   Ad Supported  In App Purchases  Editors Choice  \n",
       "0         False             False           False  \n",
       "1          True              True           False  \n",
       "2          True             False           False  \n",
       "3          True              True           False  \n",
       "4         False             False           False  "
      ]
     },
     "execution_count": 3,
     "metadata": {},
     "output_type": "execute_result"
    }
   ],
   "source": [
    "pd.set_option('display.max_columns', None)\n",
    "data.head()"
   ]
  },
  {
   "cell_type": "code",
   "execution_count": null,
   "metadata": {},
   "outputs": [],
   "source": []
  },
  {
   "cell_type": "code",
   "execution_count": 4,
   "metadata": {},
   "outputs": [],
   "source": [
    "# Data Dropping \n",
    "\n",
    "data.drop([ 'App Id', 'Developer Website','Developer Email','Privacy Policy'],axis=1, inplace=True)"
   ]
  },
  {
   "cell_type": "code",
   "execution_count": 5,
   "metadata": {},
   "outputs": [
    {
     "name": "stdout",
     "output_type": "stream",
     "text": [
      "<class 'pandas.core.frame.DataFrame'>\n",
      "RangeIndex: 1118136 entries, 0 to 1118135\n",
      "Data columns (total 19 columns):\n",
      " #   Column            Non-Null Count    Dtype  \n",
      "---  ------            --------------    -----  \n",
      " 0   App Name          1118135 non-null  object \n",
      " 1   Category          1118133 non-null  object \n",
      " 2   Rating            1111286 non-null  float64\n",
      " 3   Rating Count      1111286 non-null  float64\n",
      " 4   Installs          1117975 non-null  object \n",
      " 5   Minimum Installs  1117975 non-null  float64\n",
      " 6   Maximum Installs  1118136 non-null  int64  \n",
      " 7   Free              1118136 non-null  bool   \n",
      " 8   Price             1118136 non-null  float64\n",
      " 9   Currency          1117975 non-null  object \n",
      " 10  Size              1118136 non-null  object \n",
      " 11  Minimum Android   1116123 non-null  object \n",
      " 12  Developer Id      1118134 non-null  object \n",
      " 13  Released          1110406 non-null  object \n",
      " 14  Last Updated      1118136 non-null  object \n",
      " 15  Content Rating    1118136 non-null  object \n",
      " 16  Ad Supported      1118136 non-null  bool   \n",
      " 17  In App Purchases  1118136 non-null  bool   \n",
      " 18  Editors Choice    1118136 non-null  bool   \n",
      "dtypes: bool(4), float64(4), int64(1), object(10)\n",
      "memory usage: 132.2+ MB\n"
     ]
    }
   ],
   "source": [
    "data.info()  "
   ]
  },
  {
   "cell_type": "code",
   "execution_count": 6,
   "metadata": {},
   "outputs": [],
   "source": [
    "# Getting Duplicates\n",
    "#out of 1118135 remaining left over after deleting duplicates \n",
    "#data['App Name']=data['App Name'].duplicated()\n",
    "#data['App Name'].value_counts()\n",
    "data.sort_values(\"App Name\", inplace = True) \n",
    "data.drop_duplicates(subset =\"App Name\", keep = False, inplace = True)"
   ]
  },
  {
   "cell_type": "code",
   "execution_count": 7,
   "metadata": {},
   "outputs": [],
   "source": [
    "#from scipy import stats\n",
    "#z=np.abs(stats.zscore(data))\n",
    "#print(z)"
   ]
  },
  {
   "cell_type": "code",
   "execution_count": 8,
   "metadata": {},
   "outputs": [],
   "source": [
    "## Filling missing values with mode\n",
    "data[\"Released\"].fillna(value=\"Oct 13, 2020\", inplace=True)\n",
    "data[\"Minimum Android\"].fillna(value=\"4.1 and up\", inplace= True)"
   ]
  },
  {
   "cell_type": "code",
   "execution_count": 9,
   "metadata": {},
   "outputs": [],
   "source": [
    "# Conversion of date\n",
    "data[\"Released\"]= pd.to_datetime(data['Released'], format='%b %d, %Y',\n",
    "                                 infer_datetime_format=True, errors='coerce')\n",
    "data[\"Last Updated\"]= pd.to_datetime(data['Last Updated'], format='%b %d, %Y',\n",
    "                                 infer_datetime_format=True, errors='coerce')"
   ]
  },
  {
   "cell_type": "code",
   "execution_count": 10,
   "metadata": {},
   "outputs": [],
   "source": [
    "data[\"Last Updated\"]= pd.to_datetime(data['Last Updated'], format='%b %d, %Y',\n",
    "                                 infer_datetime_format=True, errors='coerce')"
   ]
  },
  {
   "cell_type": "code",
   "execution_count": 11,
   "metadata": {},
   "outputs": [],
   "source": [
    "# Removing of special charaters in size and converting to float\n",
    "data['Size']= pd.to_numeric(data['Size'].str.replace(r'[a-zA-Z]+', ''), \n",
    "                             errors='coerce')\n",
    "#data['Minimum Android']= pd.to_numeric(data['Minimum Android'].str.replace(r'[a-zA-Z]+', ''), \n",
    "                           #  errors='coerce')"
   ]
  },
  {
   "cell_type": "code",
   "execution_count": 12,
   "metadata": {},
   "outputs": [],
   "source": [
    "# Finding Tenurity and Maintainance in terms of days\n",
    "data['Tenurity']= (datetime.datetime(2021, 1, 31) - data['Released']).dt.days\n",
    "data['Maintaninance']= (datetime.datetime(2021, 1, 31) - data['Last Updated']).dt.days"
   ]
  },
  {
   "cell_type": "code",
   "execution_count": 13,
   "metadata": {},
   "outputs": [],
   "source": [
    "# Removing Special Characters in installs and converting to float\n",
    "data[\"Installs\"]=data[\"Installs\"].str.replace(\"+\",\"\")\n",
    "data[\"Installs\"]=data[\"Installs\"].str.replace(\",\",\"\")\n",
    "data[\"Installs\"]= pd.to_numeric(data[\"Installs\"].astype(float))"
   ]
  },
  {
   "cell_type": "code",
   "execution_count": 14,
   "metadata": {},
   "outputs": [
    {
     "data": {
      "text/plain": [
       "0.00     9.559046e-01\n",
       "0.99     1.324780e-02\n",
       "1.99     5.584836e-03\n",
       "1.49     4.115715e-03\n",
       "2.99     3.742997e-03\n",
       "             ...     \n",
       "15.64    9.886415e-07\n",
       "53.81    9.886415e-07\n",
       "30.95    9.886415e-07\n",
       "44.77    9.886415e-07\n",
       "6.01     9.886415e-07\n",
       "Name: Price, Length: 694, dtype: float64"
      ]
     },
     "execution_count": 14,
     "metadata": {},
     "output_type": "execute_result"
    }
   ],
   "source": [
    "# 93.59% of the apps in the dataset are available to the users for free and \n",
    "# some are only paid hence this will effect the model hence we are removing and refereening to the free column to segregate free#\n",
    "\n",
    "#Paid apps\n",
    "data['Price'].value_counts(normalize=True)"
   ]
  },
  {
   "cell_type": "code",
   "execution_count": 15,
   "metadata": {},
   "outputs": [],
   "source": [
    "data.drop(['Price'], inplace=True, axis =1)"
   ]
  },
  {
   "cell_type": "code",
   "execution_count": 16,
   "metadata": {},
   "outputs": [
    {
     "data": {
      "text/plain": [
       "App Name                1\n",
       "Category                3\n",
       "Rating               6533\n",
       "Rating Count         6533\n",
       "Installs              159\n",
       "Minimum Installs      159\n",
       "Maximum Installs        0\n",
       "Free                    0\n",
       "Currency              159\n",
       "Size                35537\n",
       "Minimum Android         0\n",
       "Developer Id            2\n",
       "Released                0\n",
       "Last Updated            0\n",
       "Content Rating          0\n",
       "Ad Supported            0\n",
       "In App Purchases        0\n",
       "Editors Choice          0\n",
       "Tenurity                0\n",
       "Maintaninance           0\n",
       "dtype: int64"
      ]
     },
     "execution_count": 16,
     "metadata": {},
     "output_type": "execute_result"
    }
   ],
   "source": [
    "# Mising Value Treatment\n",
    "data.isnull().sum()"
   ]
  },
  {
   "cell_type": "code",
   "execution_count": 17,
   "metadata": {},
   "outputs": [],
   "source": [
    "data['App Name'].dropna(inplace=True, axis=0)\n",
    "data[\"Rating\"].fillna(data['Rating'].mean(), inplace=True)\n",
    "data[\"Rating Count\"].fillna(data['Rating Count'].median(), inplace=True)\n",
    "data[\"Minimum Installs\"].fillna(data['Minimum Installs'].median(), inplace=True)\n",
    "data[\"Installs\"].fillna(data['Installs'].median(), inplace=True)\n",
    "data[\"Currency\"].fillna(value=\"USD\", inplace= True)\n",
    "data[\"Category\"].fillna(value=\"Education\", inplace= True)\n",
    "data[\"Size\"].fillna(data[\"Size\"].median(), inplace= True)\n",
    "#data[\"App Name\"].fillna(value=\"Tic Tac Toe\",inplace= True)\n",
    "data[\"Developer Id\"].fillna(value=\"Subsplash Inc\",inplace=True)\n",
    "#data[\"Developer Website\"].fillna(value=\"http://www.subsplash.com/\", inplace=True)\n",
    "#data[\"Developer Email\"].fillna(value=\"support@classplus.co\", inplace=True)\n",
    "data[\"Released\"].fillna(value=\"Oct 13, 2020\", inplace=True)\n",
    "#data[\"Privacy Policy\"].fillna(value=\"http://www.cmcm.com/protocol/launcher-theme/privacy.html\", inplace=True)\n",
    "#data[\"Developer Website\"].fillna(value=\"http://www.subsplash.com/\", inplace=True)"
   ]
  },
  {
   "cell_type": "code",
   "execution_count": null,
   "metadata": {},
   "outputs": [],
   "source": []
  },
  {
   "cell_type": "code",
   "execution_count": null,
   "metadata": {},
   "outputs": [],
   "source": []
  },
  {
   "cell_type": "code",
   "execution_count": 18,
   "metadata": {},
   "outputs": [],
   "source": [
    "# Data Dropping \n",
    "\n",
    "data.drop([ 'Last Updated', 'Released'],axis=1, inplace=True)"
   ]
  },
  {
   "cell_type": "code",
   "execution_count": 19,
   "metadata": {},
   "outputs": [
    {
     "data": {
      "text/html": [
       "<div>\n",
       "<style scoped>\n",
       "    .dataframe tbody tr th:only-of-type {\n",
       "        vertical-align: middle;\n",
       "    }\n",
       "\n",
       "    .dataframe tbody tr th {\n",
       "        vertical-align: top;\n",
       "    }\n",
       "\n",
       "    .dataframe thead th {\n",
       "        text-align: right;\n",
       "    }\n",
       "</style>\n",
       "<table border=\"1\" class=\"dataframe\">\n",
       "  <thead>\n",
       "    <tr style=\"text-align: right;\">\n",
       "      <th></th>\n",
       "      <th>App Name</th>\n",
       "      <th>Category</th>\n",
       "      <th>Rating</th>\n",
       "      <th>Rating Count</th>\n",
       "      <th>Installs</th>\n",
       "      <th>Minimum Installs</th>\n",
       "      <th>Maximum Installs</th>\n",
       "      <th>Free</th>\n",
       "      <th>Currency</th>\n",
       "      <th>Size</th>\n",
       "      <th>Minimum Android</th>\n",
       "      <th>Developer Id</th>\n",
       "      <th>Content Rating</th>\n",
       "      <th>Ad Supported</th>\n",
       "      <th>In App Purchases</th>\n",
       "      <th>Editors Choice</th>\n",
       "      <th>Tenurity</th>\n",
       "      <th>Maintaninance</th>\n",
       "    </tr>\n",
       "  </thead>\n",
       "  <tbody>\n",
       "    <tr>\n",
       "      <th>427568</th>\n",
       "      <td>!OS-13 EMUI 5/8 Theme</td>\n",
       "      <td>Personalization</td>\n",
       "      <td>3.8</td>\n",
       "      <td>63.0</td>\n",
       "      <td>10000.0</td>\n",
       "      <td>10000.0</td>\n",
       "      <td>26968</td>\n",
       "      <td>True</td>\n",
       "      <td>USD</td>\n",
       "      <td>27.0</td>\n",
       "      <td>4.4 and up</td>\n",
       "      <td>EMUI THEMES</td>\n",
       "      <td>Everyone</td>\n",
       "      <td>True</td>\n",
       "      <td>False</td>\n",
       "      <td>False</td>\n",
       "      <td>591</td>\n",
       "      <td>491</td>\n",
       "    </tr>\n",
       "    <tr>\n",
       "      <th>427456</th>\n",
       "      <td>!OS-14 Dark UI EMUI 10/9/9.1/5/8 Theme</td>\n",
       "      <td>Personalization</td>\n",
       "      <td>4.2</td>\n",
       "      <td>473.0</td>\n",
       "      <td>100000.0</td>\n",
       "      <td>100000.0</td>\n",
       "      <td>123803</td>\n",
       "      <td>True</td>\n",
       "      <td>USD</td>\n",
       "      <td>48.0</td>\n",
       "      <td>4.4 and up</td>\n",
       "      <td>EMUI THEMES</td>\n",
       "      <td>Everyone</td>\n",
       "      <td>True</td>\n",
       "      <td>False</td>\n",
       "      <td>False</td>\n",
       "      <td>455</td>\n",
       "      <td>168</td>\n",
       "    </tr>\n",
       "    <tr>\n",
       "      <th>427574</th>\n",
       "      <td>!OS-14 EMUI 10/9.1/9/8/5 Theme</td>\n",
       "      <td>Personalization</td>\n",
       "      <td>3.8</td>\n",
       "      <td>155.0</td>\n",
       "      <td>50000.0</td>\n",
       "      <td>50000.0</td>\n",
       "      <td>68500</td>\n",
       "      <td>True</td>\n",
       "      <td>USD</td>\n",
       "      <td>32.0</td>\n",
       "      <td>4.4 and up</td>\n",
       "      <td>EMUI THEMES</td>\n",
       "      <td>Everyone</td>\n",
       "      <td>True</td>\n",
       "      <td>False</td>\n",
       "      <td>False</td>\n",
       "      <td>582</td>\n",
       "      <td>163</td>\n",
       "    </tr>\n",
       "    <tr>\n",
       "      <th>114271</th>\n",
       "      <td>!nShelf</td>\n",
       "      <td>Business</td>\n",
       "      <td>4.4</td>\n",
       "      <td>8.0</td>\n",
       "      <td>1000.0</td>\n",
       "      <td>1000.0</td>\n",
       "      <td>1617</td>\n",
       "      <td>True</td>\n",
       "      <td>USD</td>\n",
       "      <td>9.8</td>\n",
       "      <td>5.0 and up</td>\n",
       "      <td>NESTLÉ</td>\n",
       "      <td>Everyone</td>\n",
       "      <td>False</td>\n",
       "      <td>False</td>\n",
       "      <td>False</td>\n",
       "      <td>478</td>\n",
       "      <td>136</td>\n",
       "    </tr>\n",
       "    <tr>\n",
       "      <th>540146</th>\n",
       "      <td>!أوجد الكلمة</td>\n",
       "      <td>Word</td>\n",
       "      <td>4.1</td>\n",
       "      <td>7.0</td>\n",
       "      <td>100.0</td>\n",
       "      <td>100.0</td>\n",
       "      <td>446</td>\n",
       "      <td>True</td>\n",
       "      <td>USD</td>\n",
       "      <td>4.0</td>\n",
       "      <td>4.4 and up</td>\n",
       "      <td>MKM soft</td>\n",
       "      <td>Everyone</td>\n",
       "      <td>True</td>\n",
       "      <td>False</td>\n",
       "      <td>False</td>\n",
       "      <td>320</td>\n",
       "      <td>295</td>\n",
       "    </tr>\n",
       "  </tbody>\n",
       "</table>\n",
       "</div>"
      ],
      "text/plain": [
       "                                      App Name         Category  Rating  \\\n",
       "427568                   !OS-13 EMUI 5/8 Theme  Personalization     3.8   \n",
       "427456  !OS-14 Dark UI EMUI 10/9/9.1/5/8 Theme  Personalization     4.2   \n",
       "427574          !OS-14 EMUI 10/9.1/9/8/5 Theme  Personalization     3.8   \n",
       "114271                                 !nShelf         Business     4.4   \n",
       "540146                            !أوجد الكلمة             Word     4.1   \n",
       "\n",
       "        Rating Count  Installs  Minimum Installs  Maximum Installs  Free  \\\n",
       "427568          63.0   10000.0           10000.0             26968  True   \n",
       "427456         473.0  100000.0          100000.0            123803  True   \n",
       "427574         155.0   50000.0           50000.0             68500  True   \n",
       "114271           8.0    1000.0            1000.0              1617  True   \n",
       "540146           7.0     100.0             100.0               446  True   \n",
       "\n",
       "       Currency  Size Minimum Android Developer Id Content Rating  \\\n",
       "427568      USD  27.0      4.4 and up  EMUI THEMES       Everyone   \n",
       "427456      USD  48.0      4.4 and up  EMUI THEMES       Everyone   \n",
       "427574      USD  32.0      4.4 and up  EMUI THEMES       Everyone   \n",
       "114271      USD   9.8      5.0 and up       NESTLÉ       Everyone   \n",
       "540146      USD   4.0      4.4 and up     MKM soft       Everyone   \n",
       "\n",
       "        Ad Supported  In App Purchases  Editors Choice  Tenurity  \\\n",
       "427568          True             False           False       591   \n",
       "427456          True             False           False       455   \n",
       "427574          True             False           False       582   \n",
       "114271         False             False           False       478   \n",
       "540146          True             False           False       320   \n",
       "\n",
       "        Maintaninance  \n",
       "427568            491  \n",
       "427456            168  \n",
       "427574            163  \n",
       "114271            136  \n",
       "540146            295  "
      ]
     },
     "execution_count": 19,
     "metadata": {},
     "output_type": "execute_result"
    }
   ],
   "source": [
    "data.head()"
   ]
  },
  {
   "cell_type": "code",
   "execution_count": 20,
   "metadata": {},
   "outputs": [
    {
     "data": {
      "text/html": [
       "<div>\n",
       "<style scoped>\n",
       "    .dataframe tbody tr th:only-of-type {\n",
       "        vertical-align: middle;\n",
       "    }\n",
       "\n",
       "    .dataframe tbody tr th {\n",
       "        vertical-align: top;\n",
       "    }\n",
       "\n",
       "    .dataframe thead th {\n",
       "        text-align: right;\n",
       "    }\n",
       "</style>\n",
       "<table border=\"1\" class=\"dataframe\">\n",
       "  <thead>\n",
       "    <tr style=\"text-align: right;\">\n",
       "      <th></th>\n",
       "      <th>Rating</th>\n",
       "      <th>Rating Count</th>\n",
       "      <th>Installs</th>\n",
       "      <th>Minimum Installs</th>\n",
       "      <th>Maximum Installs</th>\n",
       "      <th>Size</th>\n",
       "      <th>Tenurity</th>\n",
       "      <th>Maintaninance</th>\n",
       "    </tr>\n",
       "  </thead>\n",
       "  <tbody>\n",
       "    <tr>\n",
       "      <th>count</th>\n",
       "      <td>1.011489e+06</td>\n",
       "      <td>1.011489e+06</td>\n",
       "      <td>1.011489e+06</td>\n",
       "      <td>1.011489e+06</td>\n",
       "      <td>1.011489e+06</td>\n",
       "      <td>1.011489e+06</td>\n",
       "      <td>1.011489e+06</td>\n",
       "      <td>1.011489e+06</td>\n",
       "    </tr>\n",
       "    <tr>\n",
       "      <th>mean</th>\n",
       "      <td>2.478877e+00</td>\n",
       "      <td>5.270045e+03</td>\n",
       "      <td>3.150887e+05</td>\n",
       "      <td>3.150887e+05</td>\n",
       "      <td>5.443725e+05</td>\n",
       "      <td>2.629851e+01</td>\n",
       "      <td>1.001060e+03</td>\n",
       "      <td>5.284587e+02</td>\n",
       "    </tr>\n",
       "    <tr>\n",
       "      <th>std</th>\n",
       "      <td>2.047942e+00</td>\n",
       "      <td>2.844346e+05</td>\n",
       "      <td>2.136619e+07</td>\n",
       "      <td>2.136619e+07</td>\n",
       "      <td>3.136869e+07</td>\n",
       "      <td>7.371144e+01</td>\n",
       "      <td>8.009536e+02</td>\n",
       "      <td>5.458622e+02</td>\n",
       "    </tr>\n",
       "    <tr>\n",
       "      <th>min</th>\n",
       "      <td>0.000000e+00</td>\n",
       "      <td>0.000000e+00</td>\n",
       "      <td>0.000000e+00</td>\n",
       "      <td>0.000000e+00</td>\n",
       "      <td>0.000000e+00</td>\n",
       "      <td>1.000000e+00</td>\n",
       "      <td>5.900000e+01</td>\n",
       "      <td>5.900000e+01</td>\n",
       "    </tr>\n",
       "    <tr>\n",
       "      <th>25%</th>\n",
       "      <td>0.000000e+00</td>\n",
       "      <td>0.000000e+00</td>\n",
       "      <td>1.000000e+02</td>\n",
       "      <td>1.000000e+02</td>\n",
       "      <td>1.520000e+02</td>\n",
       "      <td>5.200000e+00</td>\n",
       "      <td>3.600000e+02</td>\n",
       "      <td>1.400000e+02</td>\n",
       "    </tr>\n",
       "    <tr>\n",
       "      <th>50%</th>\n",
       "      <td>3.500000e+00</td>\n",
       "      <td>1.000000e+01</td>\n",
       "      <td>1.000000e+03</td>\n",
       "      <td>1.000000e+03</td>\n",
       "      <td>1.633000e+03</td>\n",
       "      <td>1.000000e+01</td>\n",
       "      <td>7.840000e+02</td>\n",
       "      <td>3.260000e+02</td>\n",
       "    </tr>\n",
       "    <tr>\n",
       "      <th>75%</th>\n",
       "      <td>4.300000e+00</td>\n",
       "      <td>9.500000e+01</td>\n",
       "      <td>1.000000e+04</td>\n",
       "      <td>1.000000e+04</td>\n",
       "      <td>1.807200e+04</td>\n",
       "      <td>2.500000e+01</td>\n",
       "      <td>1.425000e+03</td>\n",
       "      <td>7.190000e+02</td>\n",
       "    </tr>\n",
       "    <tr>\n",
       "      <th>max</th>\n",
       "      <td>5.000000e+00</td>\n",
       "      <td>1.253808e+08</td>\n",
       "      <td>1.000000e+10</td>\n",
       "      <td>1.000000e+10</td>\n",
       "      <td>1.077270e+10</td>\n",
       "      <td>9.990000e+02</td>\n",
       "      <td>4.021000e+03</td>\n",
       "      <td>4.484000e+03</td>\n",
       "    </tr>\n",
       "  </tbody>\n",
       "</table>\n",
       "</div>"
      ],
      "text/plain": [
       "             Rating  Rating Count      Installs  Minimum Installs  \\\n",
       "count  1.011489e+06  1.011489e+06  1.011489e+06      1.011489e+06   \n",
       "mean   2.478877e+00  5.270045e+03  3.150887e+05      3.150887e+05   \n",
       "std    2.047942e+00  2.844346e+05  2.136619e+07      2.136619e+07   \n",
       "min    0.000000e+00  0.000000e+00  0.000000e+00      0.000000e+00   \n",
       "25%    0.000000e+00  0.000000e+00  1.000000e+02      1.000000e+02   \n",
       "50%    3.500000e+00  1.000000e+01  1.000000e+03      1.000000e+03   \n",
       "75%    4.300000e+00  9.500000e+01  1.000000e+04      1.000000e+04   \n",
       "max    5.000000e+00  1.253808e+08  1.000000e+10      1.000000e+10   \n",
       "\n",
       "       Maximum Installs          Size      Tenurity  Maintaninance  \n",
       "count      1.011489e+06  1.011489e+06  1.011489e+06   1.011489e+06  \n",
       "mean       5.443725e+05  2.629851e+01  1.001060e+03   5.284587e+02  \n",
       "std        3.136869e+07  7.371144e+01  8.009536e+02   5.458622e+02  \n",
       "min        0.000000e+00  1.000000e+00  5.900000e+01   5.900000e+01  \n",
       "25%        1.520000e+02  5.200000e+00  3.600000e+02   1.400000e+02  \n",
       "50%        1.633000e+03  1.000000e+01  7.840000e+02   3.260000e+02  \n",
       "75%        1.807200e+04  2.500000e+01  1.425000e+03   7.190000e+02  \n",
       "max        1.077270e+10  9.990000e+02  4.021000e+03   4.484000e+03  "
      ]
     },
     "execution_count": 20,
     "metadata": {},
     "output_type": "execute_result"
    }
   ],
   "source": [
    "#descriptive statistics\n",
    "data.describe()"
   ]
  },
  {
   "cell_type": "code",
   "execution_count": 21,
   "metadata": {},
   "outputs": [
    {
     "data": {
      "text/html": [
       "<div>\n",
       "<style scoped>\n",
       "    .dataframe tbody tr th:only-of-type {\n",
       "        vertical-align: middle;\n",
       "    }\n",
       "\n",
       "    .dataframe tbody tr th {\n",
       "        vertical-align: top;\n",
       "    }\n",
       "\n",
       "    .dataframe thead th {\n",
       "        text-align: right;\n",
       "    }\n",
       "</style>\n",
       "<table border=\"1\" class=\"dataframe\">\n",
       "  <thead>\n",
       "    <tr style=\"text-align: right;\">\n",
       "      <th></th>\n",
       "      <th>Rating</th>\n",
       "      <th>Rating Count</th>\n",
       "      <th>Installs</th>\n",
       "      <th>Minimum Installs</th>\n",
       "      <th>Maximum Installs</th>\n",
       "      <th>Free</th>\n",
       "      <th>Size</th>\n",
       "      <th>Ad Supported</th>\n",
       "      <th>In App Purchases</th>\n",
       "      <th>Editors Choice</th>\n",
       "      <th>Tenurity</th>\n",
       "      <th>Maintaninance</th>\n",
       "    </tr>\n",
       "  </thead>\n",
       "  <tbody>\n",
       "    <tr>\n",
       "      <th>Rating</th>\n",
       "      <td>1.000000</td>\n",
       "      <td>0.016377</td>\n",
       "      <td>0.012246</td>\n",
       "      <td>0.012246</td>\n",
       "      <td>0.014470</td>\n",
       "      <td>0.033728</td>\n",
       "      <td>0.030775</td>\n",
       "      <td>0.098252</td>\n",
       "      <td>0.189979</td>\n",
       "      <td>0.024302</td>\n",
       "      <td>0.286970</td>\n",
       "      <td>0.035595</td>\n",
       "    </tr>\n",
       "    <tr>\n",
       "      <th>Rating Count</th>\n",
       "      <td>0.016377</td>\n",
       "      <td>1.000000</td>\n",
       "      <td>0.513738</td>\n",
       "      <td>0.513738</td>\n",
       "      <td>0.563005</td>\n",
       "      <td>0.003461</td>\n",
       "      <td>0.004189</td>\n",
       "      <td>0.002690</td>\n",
       "      <td>0.031796</td>\n",
       "      <td>0.150174</td>\n",
       "      <td>0.027738</td>\n",
       "      <td>-0.011308</td>\n",
       "    </tr>\n",
       "    <tr>\n",
       "      <th>Installs</th>\n",
       "      <td>0.012246</td>\n",
       "      <td>0.513738</td>\n",
       "      <td>1.000000</td>\n",
       "      <td>1.000000</td>\n",
       "      <td>0.951212</td>\n",
       "      <td>0.003093</td>\n",
       "      <td>0.001127</td>\n",
       "      <td>-0.001077</td>\n",
       "      <td>0.014263</td>\n",
       "      <td>0.056150</td>\n",
       "      <td>0.021884</td>\n",
       "      <td>-0.008868</td>\n",
       "    </tr>\n",
       "    <tr>\n",
       "      <th>Minimum Installs</th>\n",
       "      <td>0.012246</td>\n",
       "      <td>0.513738</td>\n",
       "      <td>1.000000</td>\n",
       "      <td>1.000000</td>\n",
       "      <td>0.951212</td>\n",
       "      <td>0.003093</td>\n",
       "      <td>0.001127</td>\n",
       "      <td>-0.001077</td>\n",
       "      <td>0.014263</td>\n",
       "      <td>0.056150</td>\n",
       "      <td>0.021884</td>\n",
       "      <td>-0.008868</td>\n",
       "    </tr>\n",
       "    <tr>\n",
       "      <th>Maximum Installs</th>\n",
       "      <td>0.014470</td>\n",
       "      <td>0.563005</td>\n",
       "      <td>0.951212</td>\n",
       "      <td>0.951212</td>\n",
       "      <td>1.000000</td>\n",
       "      <td>0.003632</td>\n",
       "      <td>0.001310</td>\n",
       "      <td>-0.000952</td>\n",
       "      <td>0.017452</td>\n",
       "      <td>0.067779</td>\n",
       "      <td>0.025279</td>\n",
       "      <td>-0.010354</td>\n",
       "    </tr>\n",
       "    <tr>\n",
       "      <th>Free</th>\n",
       "      <td>0.033728</td>\n",
       "      <td>0.003461</td>\n",
       "      <td>0.003093</td>\n",
       "      <td>0.003093</td>\n",
       "      <td>0.003632</td>\n",
       "      <td>1.000000</td>\n",
       "      <td>-0.091108</td>\n",
       "      <td>0.249170</td>\n",
       "      <td>0.032445</td>\n",
       "      <td>-0.000093</td>\n",
       "      <td>-0.172921</td>\n",
       "      <td>-0.170861</td>\n",
       "    </tr>\n",
       "    <tr>\n",
       "      <th>Size</th>\n",
       "      <td>0.030775</td>\n",
       "      <td>0.004189</td>\n",
       "      <td>0.001127</td>\n",
       "      <td>0.001127</td>\n",
       "      <td>0.001310</td>\n",
       "      <td>-0.091108</td>\n",
       "      <td>1.000000</td>\n",
       "      <td>-0.098018</td>\n",
       "      <td>0.034221</td>\n",
       "      <td>0.012915</td>\n",
       "      <td>0.126558</td>\n",
       "      <td>0.171884</td>\n",
       "    </tr>\n",
       "    <tr>\n",
       "      <th>Ad Supported</th>\n",
       "      <td>0.098252</td>\n",
       "      <td>0.002690</td>\n",
       "      <td>-0.001077</td>\n",
       "      <td>-0.001077</td>\n",
       "      <td>-0.000952</td>\n",
       "      <td>0.249170</td>\n",
       "      <td>-0.098018</td>\n",
       "      <td>1.000000</td>\n",
       "      <td>0.094609</td>\n",
       "      <td>0.001264</td>\n",
       "      <td>-0.140991</td>\n",
       "      <td>-0.088503</td>\n",
       "    </tr>\n",
       "    <tr>\n",
       "      <th>In App Purchases</th>\n",
       "      <td>0.189979</td>\n",
       "      <td>0.031796</td>\n",
       "      <td>0.014263</td>\n",
       "      <td>0.014263</td>\n",
       "      <td>0.017452</td>\n",
       "      <td>0.032445</td>\n",
       "      <td>0.034221</td>\n",
       "      <td>0.094609</td>\n",
       "      <td>1.000000</td>\n",
       "      <td>0.058285</td>\n",
       "      <td>0.079778</td>\n",
       "      <td>-0.066480</td>\n",
       "    </tr>\n",
       "    <tr>\n",
       "      <th>Editors Choice</th>\n",
       "      <td>0.024302</td>\n",
       "      <td>0.150174</td>\n",
       "      <td>0.056150</td>\n",
       "      <td>0.056150</td>\n",
       "      <td>0.067779</td>\n",
       "      <td>-0.000093</td>\n",
       "      <td>0.012915</td>\n",
       "      <td>0.001264</td>\n",
       "      <td>0.058285</td>\n",
       "      <td>1.000000</td>\n",
       "      <td>0.023080</td>\n",
       "      <td>-0.019377</td>\n",
       "    </tr>\n",
       "    <tr>\n",
       "      <th>Tenurity</th>\n",
       "      <td>0.286970</td>\n",
       "      <td>0.027738</td>\n",
       "      <td>0.021884</td>\n",
       "      <td>0.021884</td>\n",
       "      <td>0.025279</td>\n",
       "      <td>-0.172921</td>\n",
       "      <td>0.126558</td>\n",
       "      <td>-0.140991</td>\n",
       "      <td>0.079778</td>\n",
       "      <td>0.023080</td>\n",
       "      <td>1.000000</td>\n",
       "      <td>0.533810</td>\n",
       "    </tr>\n",
       "    <tr>\n",
       "      <th>Maintaninance</th>\n",
       "      <td>0.035595</td>\n",
       "      <td>-0.011308</td>\n",
       "      <td>-0.008868</td>\n",
       "      <td>-0.008868</td>\n",
       "      <td>-0.010354</td>\n",
       "      <td>-0.170861</td>\n",
       "      <td>0.171884</td>\n",
       "      <td>-0.088503</td>\n",
       "      <td>-0.066480</td>\n",
       "      <td>-0.019377</td>\n",
       "      <td>0.533810</td>\n",
       "      <td>1.000000</td>\n",
       "    </tr>\n",
       "  </tbody>\n",
       "</table>\n",
       "</div>"
      ],
      "text/plain": [
       "                    Rating  Rating Count  Installs  Minimum Installs  \\\n",
       "Rating            1.000000      0.016377  0.012246          0.012246   \n",
       "Rating Count      0.016377      1.000000  0.513738          0.513738   \n",
       "Installs          0.012246      0.513738  1.000000          1.000000   \n",
       "Minimum Installs  0.012246      0.513738  1.000000          1.000000   \n",
       "Maximum Installs  0.014470      0.563005  0.951212          0.951212   \n",
       "Free              0.033728      0.003461  0.003093          0.003093   \n",
       "Size              0.030775      0.004189  0.001127          0.001127   \n",
       "Ad Supported      0.098252      0.002690 -0.001077         -0.001077   \n",
       "In App Purchases  0.189979      0.031796  0.014263          0.014263   \n",
       "Editors Choice    0.024302      0.150174  0.056150          0.056150   \n",
       "Tenurity          0.286970      0.027738  0.021884          0.021884   \n",
       "Maintaninance     0.035595     -0.011308 -0.008868         -0.008868   \n",
       "\n",
       "                  Maximum Installs      Free      Size  Ad Supported  \\\n",
       "Rating                    0.014470  0.033728  0.030775      0.098252   \n",
       "Rating Count              0.563005  0.003461  0.004189      0.002690   \n",
       "Installs                  0.951212  0.003093  0.001127     -0.001077   \n",
       "Minimum Installs          0.951212  0.003093  0.001127     -0.001077   \n",
       "Maximum Installs          1.000000  0.003632  0.001310     -0.000952   \n",
       "Free                      0.003632  1.000000 -0.091108      0.249170   \n",
       "Size                      0.001310 -0.091108  1.000000     -0.098018   \n",
       "Ad Supported             -0.000952  0.249170 -0.098018      1.000000   \n",
       "In App Purchases          0.017452  0.032445  0.034221      0.094609   \n",
       "Editors Choice            0.067779 -0.000093  0.012915      0.001264   \n",
       "Tenurity                  0.025279 -0.172921  0.126558     -0.140991   \n",
       "Maintaninance            -0.010354 -0.170861  0.171884     -0.088503   \n",
       "\n",
       "                  In App Purchases  Editors Choice  Tenurity  Maintaninance  \n",
       "Rating                    0.189979        0.024302  0.286970       0.035595  \n",
       "Rating Count              0.031796        0.150174  0.027738      -0.011308  \n",
       "Installs                  0.014263        0.056150  0.021884      -0.008868  \n",
       "Minimum Installs          0.014263        0.056150  0.021884      -0.008868  \n",
       "Maximum Installs          0.017452        0.067779  0.025279      -0.010354  \n",
       "Free                      0.032445       -0.000093 -0.172921      -0.170861  \n",
       "Size                      0.034221        0.012915  0.126558       0.171884  \n",
       "Ad Supported              0.094609        0.001264 -0.140991      -0.088503  \n",
       "In App Purchases          1.000000        0.058285  0.079778      -0.066480  \n",
       "Editors Choice            0.058285        1.000000  0.023080      -0.019377  \n",
       "Tenurity                  0.079778        0.023080  1.000000       0.533810  \n",
       "Maintaninance            -0.066480       -0.019377  0.533810       1.000000  "
      ]
     },
     "execution_count": 21,
     "metadata": {},
     "output_type": "execute_result"
    }
   ],
   "source": [
    "# Correlation\n",
    "data.corr()"
   ]
  },
  {
   "cell_type": "code",
   "execution_count": 22,
   "metadata": {},
   "outputs": [],
   "source": [
    "# Heat Map\n",
    "a=data.corr()\n",
    "#sns.heatmap(a)"
   ]
  },
  {
   "cell_type": "code",
   "execution_count": 23,
   "metadata": {},
   "outputs": [],
   "source": [
    "#sns.pairplot(a)"
   ]
  },
  {
   "cell_type": "code",
   "execution_count": 24,
   "metadata": {},
   "outputs": [],
   "source": [
    "# Feature Enginerring \n",
    "# As the correlation between Installs and Minimum Installs are high we will be dropping Minimum installs column\n",
    "data.drop(['Minimum Installs'], inplace=True, axis=1)"
   ]
  },
  {
   "cell_type": "code",
   "execution_count": 25,
   "metadata": {},
   "outputs": [
    {
     "data": {
      "text/html": [
       "<div>\n",
       "<style scoped>\n",
       "    .dataframe tbody tr th:only-of-type {\n",
       "        vertical-align: middle;\n",
       "    }\n",
       "\n",
       "    .dataframe tbody tr th {\n",
       "        vertical-align: top;\n",
       "    }\n",
       "\n",
       "    .dataframe thead th {\n",
       "        text-align: right;\n",
       "    }\n",
       "</style>\n",
       "<table border=\"1\" class=\"dataframe\">\n",
       "  <thead>\n",
       "    <tr style=\"text-align: right;\">\n",
       "      <th></th>\n",
       "      <th>App Name</th>\n",
       "      <th>Category</th>\n",
       "      <th>Rating</th>\n",
       "      <th>Rating Count</th>\n",
       "      <th>Installs</th>\n",
       "      <th>Maximum Installs</th>\n",
       "      <th>Free</th>\n",
       "      <th>Currency</th>\n",
       "      <th>Size</th>\n",
       "      <th>Minimum Android</th>\n",
       "      <th>Developer Id</th>\n",
       "      <th>Content Rating</th>\n",
       "      <th>Ad Supported</th>\n",
       "      <th>In App Purchases</th>\n",
       "      <th>Editors Choice</th>\n",
       "      <th>Tenurity</th>\n",
       "      <th>Maintaninance</th>\n",
       "    </tr>\n",
       "  </thead>\n",
       "  <tbody>\n",
       "    <tr>\n",
       "      <th>427568</th>\n",
       "      <td>!OS-13 EMUI 5/8 Theme</td>\n",
       "      <td>Personalization</td>\n",
       "      <td>3.8</td>\n",
       "      <td>63.0</td>\n",
       "      <td>10000.0</td>\n",
       "      <td>26968</td>\n",
       "      <td>True</td>\n",
       "      <td>USD</td>\n",
       "      <td>27.0</td>\n",
       "      <td>4.4 and up</td>\n",
       "      <td>EMUI THEMES</td>\n",
       "      <td>Everyone</td>\n",
       "      <td>True</td>\n",
       "      <td>False</td>\n",
       "      <td>False</td>\n",
       "      <td>591</td>\n",
       "      <td>491</td>\n",
       "    </tr>\n",
       "    <tr>\n",
       "      <th>427456</th>\n",
       "      <td>!OS-14 Dark UI EMUI 10/9/9.1/5/8 Theme</td>\n",
       "      <td>Personalization</td>\n",
       "      <td>4.2</td>\n",
       "      <td>473.0</td>\n",
       "      <td>100000.0</td>\n",
       "      <td>123803</td>\n",
       "      <td>True</td>\n",
       "      <td>USD</td>\n",
       "      <td>48.0</td>\n",
       "      <td>4.4 and up</td>\n",
       "      <td>EMUI THEMES</td>\n",
       "      <td>Everyone</td>\n",
       "      <td>True</td>\n",
       "      <td>False</td>\n",
       "      <td>False</td>\n",
       "      <td>455</td>\n",
       "      <td>168</td>\n",
       "    </tr>\n",
       "    <tr>\n",
       "      <th>427574</th>\n",
       "      <td>!OS-14 EMUI 10/9.1/9/8/5 Theme</td>\n",
       "      <td>Personalization</td>\n",
       "      <td>3.8</td>\n",
       "      <td>155.0</td>\n",
       "      <td>50000.0</td>\n",
       "      <td>68500</td>\n",
       "      <td>True</td>\n",
       "      <td>USD</td>\n",
       "      <td>32.0</td>\n",
       "      <td>4.4 and up</td>\n",
       "      <td>EMUI THEMES</td>\n",
       "      <td>Everyone</td>\n",
       "      <td>True</td>\n",
       "      <td>False</td>\n",
       "      <td>False</td>\n",
       "      <td>582</td>\n",
       "      <td>163</td>\n",
       "    </tr>\n",
       "    <tr>\n",
       "      <th>114271</th>\n",
       "      <td>!nShelf</td>\n",
       "      <td>Business</td>\n",
       "      <td>4.4</td>\n",
       "      <td>8.0</td>\n",
       "      <td>1000.0</td>\n",
       "      <td>1617</td>\n",
       "      <td>True</td>\n",
       "      <td>USD</td>\n",
       "      <td>9.8</td>\n",
       "      <td>5.0 and up</td>\n",
       "      <td>NESTLÉ</td>\n",
       "      <td>Everyone</td>\n",
       "      <td>False</td>\n",
       "      <td>False</td>\n",
       "      <td>False</td>\n",
       "      <td>478</td>\n",
       "      <td>136</td>\n",
       "    </tr>\n",
       "    <tr>\n",
       "      <th>540146</th>\n",
       "      <td>!أوجد الكلمة</td>\n",
       "      <td>Word</td>\n",
       "      <td>4.1</td>\n",
       "      <td>7.0</td>\n",
       "      <td>100.0</td>\n",
       "      <td>446</td>\n",
       "      <td>True</td>\n",
       "      <td>USD</td>\n",
       "      <td>4.0</td>\n",
       "      <td>4.4 and up</td>\n",
       "      <td>MKM soft</td>\n",
       "      <td>Everyone</td>\n",
       "      <td>True</td>\n",
       "      <td>False</td>\n",
       "      <td>False</td>\n",
       "      <td>320</td>\n",
       "      <td>295</td>\n",
       "    </tr>\n",
       "  </tbody>\n",
       "</table>\n",
       "</div>"
      ],
      "text/plain": [
       "                                      App Name         Category  Rating  \\\n",
       "427568                   !OS-13 EMUI 5/8 Theme  Personalization     3.8   \n",
       "427456  !OS-14 Dark UI EMUI 10/9/9.1/5/8 Theme  Personalization     4.2   \n",
       "427574          !OS-14 EMUI 10/9.1/9/8/5 Theme  Personalization     3.8   \n",
       "114271                                 !nShelf         Business     4.4   \n",
       "540146                            !أوجد الكلمة             Word     4.1   \n",
       "\n",
       "        Rating Count  Installs  Maximum Installs  Free Currency  Size  \\\n",
       "427568          63.0   10000.0             26968  True      USD  27.0   \n",
       "427456         473.0  100000.0            123803  True      USD  48.0   \n",
       "427574         155.0   50000.0             68500  True      USD  32.0   \n",
       "114271           8.0    1000.0              1617  True      USD   9.8   \n",
       "540146           7.0     100.0               446  True      USD   4.0   \n",
       "\n",
       "       Minimum Android Developer Id Content Rating  Ad Supported  \\\n",
       "427568      4.4 and up  EMUI THEMES       Everyone          True   \n",
       "427456      4.4 and up  EMUI THEMES       Everyone          True   \n",
       "427574      4.4 and up  EMUI THEMES       Everyone          True   \n",
       "114271      5.0 and up       NESTLÉ       Everyone         False   \n",
       "540146      4.4 and up     MKM soft       Everyone          True   \n",
       "\n",
       "        In App Purchases  Editors Choice  Tenurity  Maintaninance  \n",
       "427568             False           False       591            491  \n",
       "427456             False           False       455            168  \n",
       "427574             False           False       582            163  \n",
       "114271             False           False       478            136  \n",
       "540146             False           False       320            295  "
      ]
     },
     "execution_count": 25,
     "metadata": {},
     "output_type": "execute_result"
    }
   ],
   "source": [
    "data.head()"
   ]
  },
  {
   "cell_type": "code",
   "execution_count": null,
   "metadata": {},
   "outputs": [],
   "source": []
  },
  {
   "cell_type": "code",
   "execution_count": null,
   "metadata": {},
   "outputs": [],
   "source": []
  },
  {
   "cell_type": "code",
   "execution_count": null,
   "metadata": {},
   "outputs": [],
   "source": []
  },
  {
   "cell_type": "code",
   "execution_count": null,
   "metadata": {},
   "outputs": [],
   "source": []
  },
  {
   "cell_type": "code",
   "execution_count": null,
   "metadata": {},
   "outputs": [],
   "source": []
  },
  {
   "cell_type": "code",
   "execution_count": null,
   "metadata": {},
   "outputs": [],
   "source": []
  },
  {
   "cell_type": "code",
   "execution_count": null,
   "metadata": {},
   "outputs": [],
   "source": []
  },
  {
   "cell_type": "code",
   "execution_count": null,
   "metadata": {},
   "outputs": [],
   "source": []
  },
  {
   "cell_type": "code",
   "execution_count": null,
   "metadata": {},
   "outputs": [],
   "source": []
  },
  {
   "cell_type": "code",
   "execution_count": null,
   "metadata": {},
   "outputs": [],
   "source": []
  },
  {
   "cell_type": "code",
   "execution_count": null,
   "metadata": {},
   "outputs": [],
   "source": []
  },
  {
   "cell_type": "code",
   "execution_count": 26,
   "metadata": {},
   "outputs": [],
   "source": [
    "# Outlier Detection using plots\n",
    "\n",
    "def plotvariable(data, variable):\n",
    "    plt.figure(figsize=(16,4))\n",
    "    plt.subplot(1,2,1)\n",
    "    plt.hist(data[variable],alpha =0.5)\n",
    "    \n",
    "    plt.subplot(1,2,2)\n",
    "    sns.boxplot(data[variable])\n",
    "    plt.show()"
   ]
  },
  {
   "cell_type": "code",
   "execution_count": 27,
   "metadata": {},
   "outputs": [
    {
     "data": {
      "image/png": "[encoded data removed]",
      "text/plain": [
       "<Figure size 1152x288 with 2 Axes>"
      ]
     },
     "metadata": {
      "needs_background": "light"
     },
     "output_type": "display_data"
    }
   ],
   "source": [
    "plotvariable(data, 'Maintaninance')"
   ]
  },
  {
   "cell_type": "code",
   "execution_count": 28,
   "metadata": {},
   "outputs": [],
   "source": [
    "def find_boundrs(data,variable):\n",
    "    q1 = data[variable].quantile(.25)\n",
    "    q3 = data[variable].quantile(.75)\n",
    "    iqr = q3-q1\n",
    "    lowr_bondry = q1 - 1.5 * iqr\n",
    "    upr_bondry = q3 + 1.5 * iqr\n",
    "    \n",
    "    return lowr_bondry , upr_bondry"
   ]
  },
  {
   "cell_type": "code",
   "execution_count": 29,
   "metadata": {},
   "outputs": [
    {
     "name": "stdout",
     "output_type": "stream",
     "text": [
      "Lower Limit :  -142.5\n",
      "Upper Limit :  237.5\n"
     ]
    }
   ],
   "source": [
    "lowr_rating , upr_rating = find_boundrs(data,'Rating Count')\n",
    "print('Lower Limit : ',lowr_rating)\n",
    "print('Upper Limit : ',upr_rating)\n",
    "\n",
    "\n",
    "data['Rating Count'] = np.where(data['Rating Count'] > upr_rating,upr_rating, \n",
    "                           np.where(data['Rating Count'] < lowr_rating, lowr_rating, data['Rating Count']))"
   ]
  },
  {
   "cell_type": "code",
   "execution_count": 30,
   "metadata": {},
   "outputs": [
    {
     "name": "stdout",
     "output_type": "stream",
     "text": [
      "Lower Limit :  -142.5\n",
      "Upper Limit :  237.5\n"
     ]
    }
   ],
   "source": [
    "lowr_rating , upr_rating = find_boundrs(data,'Rating Count')\n",
    "print('Lower Limit : ',lowr_rating)\n",
    "print('Upper Limit : ',upr_rating)\n",
    "\n",
    "\n",
    "data['Rating Count'] = np.where(data['Rating Count'] > upr_rating,upr_rating, \n",
    "                           np.where(data['Rating Count'] < lowr_rating, lowr_rating, data['Rating Count']))"
   ]
  },
  {
   "cell_type": "code",
   "execution_count": null,
   "metadata": {},
   "outputs": [],
   "source": [
    "data.columns"
   ]
  },
  {
   "cell_type": "code",
   "execution_count": null,
   "metadata": {},
   "outputs": [],
   "source": [
    "#plotvariable(data, 'Maintaninance')"
   ]
  },
  {
   "cell_type": "code",
   "execution_count": 31,
   "metadata": {},
   "outputs": [
    {
     "name": "stdout",
     "output_type": "stream",
     "text": [
      "Lower Limit :  -6.449999999999999\n",
      "Upper Limit :  10.75\n"
     ]
    }
   ],
   "source": [
    "lowr_rating , upr_rating = find_boundrs(data,'Rating')\n",
    "print('Lower Limit : ',lowr_rating)\n",
    "print('Upper Limit : ',upr_rating)\n",
    "data['Rating'] = np.where(data['Rating'] > upr_rating,upr_rating, \n",
    "                           np.where(data['Rating'] < lowr_rating, lowr_rating, data['Rating']))"
   ]
  },
  {
   "cell_type": "code",
   "execution_count": 32,
   "metadata": {},
   "outputs": [
    {
     "name": "stdout",
     "output_type": "stream",
     "text": [
      "Lower Limit :  -14750.0\n",
      "Upper Limit :  24850.0\n"
     ]
    }
   ],
   "source": [
    "lowr_rating , upr_rating = find_boundrs(data,'Installs')\n",
    "print('Lower Limit : ',lowr_rating)\n",
    "print('Upper Limit : ',upr_rating)\n",
    "data['Installs'] = np.where(data['Installs'] > upr_rating,upr_rating, \n",
    "                           np.where(data['Installs'] < lowr_rating, lowr_rating, data['Installs']))"
   ]
  },
  {
   "cell_type": "code",
   "execution_count": 33,
   "metadata": {},
   "outputs": [
    {
     "name": "stdout",
     "output_type": "stream",
     "text": [
      "Lower Limit :  -26728.0\n",
      "Upper Limit :  44952.0\n"
     ]
    }
   ],
   "source": [
    "lowr_rating , upr_rating = find_boundrs(data,'Maximum Installs')\n",
    "print('Lower Limit : ',lowr_rating)\n",
    "print('Upper Limit : ',upr_rating)\n",
    "data['Maximum Installs'] = np.where(data['Maximum Installs'] > upr_rating,upr_rating, \n",
    "                           np.where(data['Maximum Installs'] < lowr_rating, lowr_rating, data['Maximum Installs']))"
   ]
  },
  {
   "cell_type": "code",
   "execution_count": 34,
   "metadata": {},
   "outputs": [
    {
     "name": "stdout",
     "output_type": "stream",
     "text": [
      "Lower Limit :  -24.500000000000004\n",
      "Upper Limit :  54.7\n"
     ]
    }
   ],
   "source": [
    "lowr_rating , upr_rating = find_boundrs(data,'Size')\n",
    "print('Lower Limit : ',lowr_rating)\n",
    "print('Upper Limit : ',upr_rating)\n",
    "data['Size'] = np.where(data['Size'] > upr_rating,upr_rating, \n",
    "                           np.where(data['Size'] < lowr_rating, lowr_rating, data['Size']))"
   ]
  },
  {
   "cell_type": "code",
   "execution_count": 35,
   "metadata": {},
   "outputs": [
    {
     "name": "stdout",
     "output_type": "stream",
     "text": [
      "Lower Limit :  -1237.5\n",
      "Upper Limit :  3022.5\n"
     ]
    }
   ],
   "source": [
    "lowr_rating , upr_rating = find_boundrs(data,'Tenurity')\n",
    "print('Lower Limit : ',lowr_rating)\n",
    "print('Upper Limit : ',upr_rating)\n",
    "data['Tenurity'] = np.where(data['Tenurity'] > upr_rating,upr_rating, \n",
    "                           np.where(data['Tenurity'] < lowr_rating, lowr_rating, data['Tenurity']))"
   ]
  },
  {
   "cell_type": "code",
   "execution_count": 36,
   "metadata": {},
   "outputs": [
    {
     "name": "stdout",
     "output_type": "stream",
     "text": [
      "Lower Limit :  -728.5\n",
      "Upper Limit :  1587.5\n"
     ]
    }
   ],
   "source": [
    "lowr_rating , upr_rating = find_boundrs(data,'Maintaninance')\n",
    "print('Lower Limit : ',lowr_rating)\n",
    "print('Upper Limit : ',upr_rating)\n",
    "data['Maintaninance'] = np.where(data['Maintaninance'] > upr_rating,upr_rating, \n",
    "                           np.where(data['Maintaninance'] < lowr_rating, lowr_rating, data['Maintaninance']))"
   ]
  },
  {
   "cell_type": "code",
   "execution_count": 37,
   "metadata": {},
   "outputs": [],
   "source": [
    "b=data.corr()"
   ]
  },
  {
   "cell_type": "code",
   "execution_count": 38,
   "metadata": {
    "scrolled": true
   },
   "outputs": [],
   "source": [
    "#sns.pairplot(b)"
   ]
  },
  {
   "cell_type": "code",
   "execution_count": 39,
   "metadata": {},
   "outputs": [],
   "source": [
    "#data transformation\n",
    "data2=data\n",
    "data2.columns\n",
    "data2.drop(['Developer Id'], inplace=True, axis=1)\n",
    "#data2.drop(['App Name'], inplace=True, axis=1)"
   ]
  },
  {
   "cell_type": "code",
   "execution_count": null,
   "metadata": {},
   "outputs": [],
   "source": [
    "# Normalization\n",
    "\n",
    "norm=  data2.select_dtypes(include=['float64']).copy()"
   ]
  },
  {
   "cell_type": "code",
   "execution_count": null,
   "metadata": {},
   "outputs": [],
   "source": [
    "from sklearn import preprocessing\n",
    "scaler = preprocessing.MinMaxScaler() \n",
    "minmax_df = scaler.fit_transform(norm) \n",
    "minmax_df = pd.DataFrame(minmax_df) "
   ]
  },
  {
   "cell_type": "code",
   "execution_count": null,
   "metadata": {},
   "outputs": [],
   "source": [
    "num_final= minmax_df.rename(columns={0 : 'Rating', 1 : 'Rating Count', 2 : 'Installs', 3: 'Maximum Installs',4:'Size',5:'Tenurity',6:'Maintainance'})"
   ]
  },
  {
   "cell_type": "code",
   "execution_count": null,
   "metadata": {},
   "outputs": [],
   "source": [
    "num_final.shape"
   ]
  },
  {
   "cell_type": "code",
   "execution_count": null,
   "metadata": {},
   "outputs": [],
   "source": [
    "from sklearn.preprocessing import LabelEncoder\n",
    "\n",
    "l_encoder=  data2.select_dtypes(include=['bool','object']).copy()\n",
    "label_encoder= LabelEncoder()\n",
    "coded_data= label_encoder.fit_transform(l_encoder['Free'])\n",
    "coded_data2= label_encoder.fit_transform(l_encoder['Ad Supported'])\n",
    "coded_data3= label_encoder.fit_transform(l_encoder['In App Purchases'])\n",
    "coded_data4= label_encoder.fit_transform(l_encoder['Editors Choice'])\n",
    "otp= pd.DataFrame(coded_data)\n",
    "otp2= pd.DataFrame(coded_data2)\n",
    "otp3= pd.DataFrame(coded_data3)\n",
    "otp4= pd.DataFrame(coded_data4)\n",
    "final = pd.concat([otp,otp2, otp3, otp4], ignore_index=True,axis=1)\n",
    "result= final.rename(columns={0 : 'Free', 1 : 'Ad Supported', 2 : 'In App Purchases', 3: 'Editors Choice'})"
   ]
  },
  {
   "cell_type": "code",
   "execution_count": null,
   "metadata": {},
   "outputs": [],
   "source": [
    "result.head()"
   ]
  },
  {
   "cell_type": "code",
   "execution_count": null,
   "metadata": {},
   "outputs": [],
   "source": [
    "\n",
    "# Category variable one hot encoding \n",
    "\n",
    "from sklearn.preprocessing import OneHotEncoder\n",
    "dummines=data2[\"Category\"].str.get_dummies(\" \")\n",
    "dummines2=data2[\"Currency\"].str.get_dummies(\" \")\n",
    "\n",
    "#encoder = OneHotEncoder(sparse= False,handle_unknown='error',drop='first' )\n"
   ]
  },
  {
   "cell_type": "code",
   "execution_count": null,
   "metadata": {
    "scrolled": true
   },
   "outputs": [],
   "source": [
    "dummines"
   ]
  },
  {
   "cell_type": "code",
   "execution_count": null,
   "metadata": {},
   "outputs": [],
   "source": [
    "final2 = pd.concat([dummines,dummines2], ignore_index=True,axis=1)\n",
    "result2= final2.rename(columns={0:'Others', 1:'Action',2:'Adventure',3:'Arcade',4:'Art',5:'Audio',6:'Auto',7:'Beauty',8:'Board',9:'Books',\n",
    "10:'Business',11:'Card',12:'Casino', 13: 'Casual',14:'Comics',15:'Communication',\n",
    "16:'Dating',17:'Demo',18:'Design',19:'Drink',20:'Editors',21:'Education',22:'Educational',23:'Entertainment',\n",
    "24:'Events',25:'Finance',26:'Fitness',27:'Food',28:'Health',29:'Home',30:'House',31:'Libraries',32:'Lifestyle',33:'Local',\n",
    "34:'Magazines',35:'Maps',36:'Medical',37:'Music',38:'Navigation',39:'News',40:'Parenting',41:\n",
    "'Personalization',42:'Photography',43:'Players',44:'Playing',45:'Productivity',46:'Puzzle',47:'Racing',48:'Reference',\n",
    "49:'Role',50:'Shopping',51:'Simulation',52:'Social',53:'Sports',54:'Strategy',55:'Tools',56:'Travel',57:'Trivia',58:\n",
    "'Vehicles',59:'Video',60:'Weather',61:'Word',62:'AED',63:'AUD',64:'BDT',65:'BGN',66:'BOB',67:'BRL',68:'CAD',69:'CHF',70:'CLP',\n",
    "                                                71:'COP',72:'CRC',73:'CZK',74:'DKK',75:'DZD',76:'EGP',77:'EUR',\n",
    "78:'GBP',79:'GHS',80:'HKD',81:'HRK',82:'HUF',83:'IDR',84:'ILS',85:'INR',86:'JPY',87:'KES',88:'KRW',89:'KZT',90:'LBP',91:'LKR,',92:'MXN',93:'MYR',\n",
    "94:'NGN',95:'NOK',96:'NZD',97:'PEN',98:'PHP',99:'PKR',100:'PLN',101:'RON',102:'RSD',103:'RUB',104:'SAR',105:'SEK',106:'SGD',107:'THB',108:'TRY',109:'TWD',\n",
    "110:'TZS',111:'UAH',112:'USD',113:'VND',114:'XXX',115:'ZAR'})"
   ]
  },
  {
   "cell_type": "code",
   "execution_count": null,
   "metadata": {},
   "outputs": [],
   "source": [
    "result2.columns"
   ]
  },
  {
   "cell_type": "code",
   "execution_count": null,
   "metadata": {},
   "outputs": [],
   "source": [
    "result2.shape"
   ]
  },
  {
   "cell_type": "code",
   "execution_count": null,
   "metadata": {},
   "outputs": [],
   "source": [
    "f_result= pd.concat([num_final,result,result2], axis=1)"
   ]
  },
  {
   "cell_type": "code",
   "execution_count": null,
   "metadata": {},
   "outputs": [],
   "source": [
    "data.info()"
   ]
  },
  {
   "cell_type": "code",
   "execution_count": null,
   "metadata": {},
   "outputs": [],
   "source": [
    "le= LabelEncoder()\n",
    "\n",
    "\n",
    "for column in data3.columns:\n",
    "    if data3[column].dtype == type('float64'):\n",
    "        data3[column] = le.fit_transform(data3[column])"
   ]
  },
  {
   "cell_type": "code",
   "execution_count": null,
   "metadata": {},
   "outputs": [],
   "source": [
    "data3=data"
   ]
  },
  {
   "cell_type": "code",
   "execution_count": null,
   "metadata": {},
   "outputs": [],
   "source": [
    "data3.head()"
   ]
  },
  {
   "cell_type": "code",
   "execution_count": null,
   "metadata": {},
   "outputs": [],
   "source": [
    "from sklearn.preprocessing import MinMaxScaler\n",
    "mx=MinMaxScaler()\n",
    "for column in data3.columns:\n",
    "    if data3[column].dtype == \"float64\":\n",
    "        data3[column] = mx.fit_transform(data3[column])"
   ]
  },
  {
   "cell_type": "code",
   "execution_count": null,
   "metadata": {},
   "outputs": [],
   "source": [
    "data3.head()"
   ]
  },
  {
   "cell_type": "code",
   "execution_count": null,
   "metadata": {},
   "outputs": [],
   "source": [
    "from sklearn.linear_model import LogisticRegression\n",
    "from sklearn import metrics\n",
    "import seaborn as sns"
   ]
  },
  {
   "cell_type": "code",
   "execution_count": null,
   "metadata": {},
   "outputs": [],
   "source": [
    "y = data3['Ad Supported']\n",
    "x = data3.drop('Ad Supported', axis=1)"
   ]
  },
  {
   "cell_type": "code",
   "execution_count": null,
   "metadata": {},
   "outputs": [],
   "source": [
    "from sklearn.model_selection import train_test_split\n",
    "x_train,x_test,y_train,y_test=train_test_split(x,y, test_size=0.2, random_state=1)\n"
   ]
  },
  {
   "cell_type": "code",
   "execution_count": null,
   "metadata": {},
   "outputs": [],
   "source": [
    "logmodel=LogisticRegression()"
   ]
  },
  {
   "cell_type": "code",
   "execution_count": null,
   "metadata": {},
   "outputs": [],
   "source": [
    "logmodel.fit(x_train, y_train)"
   ]
  },
  {
   "cell_type": "code",
   "execution_count": null,
   "metadata": {},
   "outputs": [],
   "source": [
    "predictions = logmodel.predict(x_test)"
   ]
  },
  {
   "cell_type": "code",
   "execution_count": null,
   "metadata": {},
   "outputs": [],
   "source": [
    "from sklearn.metrics import classification_report"
   ]
  },
  {
   "cell_type": "code",
   "execution_count": null,
   "metadata": {},
   "outputs": [],
   "source": [
    "classification_report(y_test,predictions)"
   ]
  },
  {
   "cell_type": "code",
   "execution_count": null,
   "metadata": {},
   "outputs": [],
   "source": [
    "from sklearn.metrics import confusion_matrix"
   ]
  },
  {
   "cell_type": "code",
   "execution_count": null,
   "metadata": {},
   "outputs": [],
   "source": [
    "confusion_matrix(y_test,predictions)"
   ]
  },
  {
   "cell_type": "code",
   "execution_count": null,
   "metadata": {},
   "outputs": [],
   "source": [
    "from sklearn.metrics import accuracy_score"
   ]
  },
  {
   "cell_type": "code",
   "execution_count": null,
   "metadata": {},
   "outputs": [],
   "source": [
    "accuracy_score(y_test,predictions)"
   ]
  },
  {
   "cell_type": "code",
   "execution_count": null,
   "metadata": {},
   "outputs": [],
   "source": [
    "data3.head()"
   ]
  },
  {
   "cell_type": "code",
   "execution_count": null,
   "metadata": {},
   "outputs": [],
   "source": [
    "# Data Transformation of training set only\n",
    "data3=data\n",
    "x =data(drop='Ad Supported')\n",
    "from sklearn.model_selection import train_test_split\n",
    "x_train,x_test,y_train,y_test=train_test_split(x,y, test_size=0.2, random_state=1)\n"
   ]
  },
  {
   "cell_type": "code",
   "execution_count": null,
   "metadata": {},
   "outputs": [],
   "source": [
    "data3.info()"
   ]
  },
  {
   "cell_type": "code",
   "execution_count": null,
   "metadata": {},
   "outputs": [],
   "source": [
    "for column in data3.columns:\n",
    "    if data3[column].dtype == 'float64':\n",
    "        data3[column] = label_encoder.fit_transform(data3[column])"
   ]
  },
  {
   "cell_type": "code",
   "execution_count": null,
   "metadata": {},
   "outputs": [],
   "source": [
    "data3.head()"
   ]
  },
  {
   "cell_type": "code",
   "execution_count": null,
   "metadata": {},
   "outputs": [],
   "source": [
    "#data5=data\n",
    "#scaler = preprocessing.RobustScaler() \n",
    "#robust_df = scaler.fit_transform(x) \n",
    "#robust_df = pd.DataFrame(robust_df, columns =['x1', 'x2'])"
   ]
  },
  {
   "cell_type": "code",
   "execution_count": null,
   "metadata": {},
   "outputs": [],
   "source": []
  },
  {
   "cell_type": "code",
   "execution_count": null,
   "metadata": {},
   "outputs": [],
   "source": []
  },
  {
   "cell_type": "code",
   "execution_count": null,
   "metadata": {},
   "outputs": [],
   "source": [
    "data['Price'].value_counts()\n",
    "\n",
    "#According to this data set there are 1071494 application those are avaiable for the users for free based on the price column."
   ]
  },
  {
   "cell_type": "code",
   "execution_count": null,
   "metadata": {},
   "outputs": [],
   "source": [
    "sns.boxplot(data['Price'])"
   ]
  },
  {
   "cell_type": "code",
   "execution_count": null,
   "metadata": {},
   "outputs": [],
   "source": [
    "data.columns"
   ]
  },
  {
   "cell_type": "code",
   "execution_count": null,
   "metadata": {},
   "outputs": [],
   "source": [
    "#data2 = data.drop(['App Name','Category','Free','Currency','Developer Id', 'Content Rating',\n",
    "      # 'Ad Supported', 'In App Purchases', 'Editors Choice'], axis=1, inplace=True)"
   ]
  },
  {
   "cell_type": "code",
   "execution_count": null,
   "metadata": {
    "scrolled": true
   },
   "outputs": [],
   "source": [
    "# \n",
    "\n",
    "data2= data.select_dtypes(include=['float64','int','int64'])"
   ]
  },
  {
   "cell_type": "code",
   "execution_count": null,
   "metadata": {},
   "outputs": [],
   "source": [
    "data2.head()"
   ]
  },
  {
   "cell_type": "code",
   "execution_count": null,
   "metadata": {},
   "outputs": [],
   "source": [
    "data2.describe()"
   ]
  },
  {
   "cell_type": "code",
   "execution_count": null,
   "metadata": {},
   "outputs": [],
   "source": [
    "data2.corr()"
   ]
  },
  {
   "cell_type": "code",
   "execution_count": null,
   "metadata": {},
   "outputs": [],
   "source": [
    "# Zscore for numercial columns\n",
    "data2.apply(zscore)"
   ]
  },
  {
   "cell_type": "code",
   "execution_count": null,
   "metadata": {},
   "outputs": [],
   "source": []
  },
  {
   "cell_type": "code",
   "execution_count": null,
   "metadata": {},
   "outputs": [],
   "source": [
    "z= np.abs(stats.zscore(data2))\n",
    "z \n",
    "\n",
    "#Hear the values above 3 are outliers"
   ]
  },
  {
   "cell_type": "code",
   "execution_count": null,
   "metadata": {},
   "outputs": [],
   "source": [
    "threshold = 3\n",
    "print(np.where(z > 3))"
   ]
  },
  {
   "cell_type": "code",
   "execution_count": null,
   "metadata": {},
   "outputs": [],
   "source": [
    "data2.describe()"
   ]
  },
  {
   "cell_type": "code",
   "execution_count": null,
   "metadata": {},
   "outputs": [],
   "source": [
    "#df= pd.DataFrame(columns=['Rating','Rating Count','Installs','Minimum Installs'\n",
    "                          #,'Price','Size','Minimum Android','Tenurity','Maintaninance'])"
   ]
  },
  {
   "cell_type": "code",
   "execution_count": null,
   "metadata": {},
   "outputs": [],
   "source": [
    "Q3, Q1 = data['Rating'].quantile((0.10, 0.90))\n",
    "Q3, Q1"
   ]
  },
  {
   "cell_type": "code",
   "execution_count": null,
   "metadata": {},
   "outputs": [],
   "source": [
    "# as zero is no rating we will change the values as 1 to 5\n",
    "#df['Rating']= np.where (df['Rating'] >  0.0)\n",
    "#df['Rating']"
   ]
  },
  {
   "cell_type": "code",
   "execution_count": null,
   "metadata": {},
   "outputs": [],
   "source": []
  },
  {
   "cell_type": "code",
   "execution_count": null,
   "metadata": {},
   "outputs": [],
   "source": [
    "sns.boxplot(data['Rating'])"
   ]
  },
  {
   "cell_type": "code",
   "execution_count": null,
   "metadata": {},
   "outputs": [],
   "source": [
    "Q3 = data['Rating'].quantile(0.75)\n",
    "Q1 = data['Rating'].quantile(0.25)\n",
    "IQR = Q3 - Q1\n",
    "\n",
    "\n",
    "print(IQR)"
   ]
  },
  {
   "cell_type": "code",
   "execution_count": null,
   "metadata": {
    "scrolled": true
   },
   "outputs": [],
   "source": [
    "data['Rating'] < (Q1 - 1.5 * IQR) or (data['Rating'] > (Q3 + 1.5 *IQR )) "
   ]
  },
  {
   "cell_type": "code",
   "execution_count": null,
   "metadata": {},
   "outputs": [],
   "source": []
  },
  {
   "cell_type": "code",
   "execution_count": null,
   "metadata": {},
   "outputs": [],
   "source": []
  },
  {
   "cell_type": "code",
   "execution_count": null,
   "metadata": {},
   "outputs": [],
   "source": []
  },
  {
   "cell_type": "code",
   "execution_count": null,
   "metadata": {},
   "outputs": [],
   "source": []
  },
  {
   "cell_type": "code",
   "execution_count": null,
   "metadata": {},
   "outputs": [],
   "source": []
  },
  {
   "cell_type": "code",
   "execution_count": null,
   "metadata": {},
   "outputs": [],
   "source": [
    "data.isna().sum() / len(data) *100 "
   ]
  },
  {
   "cell_type": "code",
   "execution_count": null,
   "metadata": {},
   "outputs": [],
   "source": []
  },
  {
   "cell_type": "code",
   "execution_count": null,
   "metadata": {},
   "outputs": [],
   "source": []
  },
  {
   "cell_type": "code",
   "execution_count": null,
   "metadata": {},
   "outputs": [],
   "source": []
  },
  {
   "cell_type": "code",
   "execution_count": null,
   "metadata": {},
   "outputs": [],
   "source": []
  },
  {
   "cell_type": "code",
   "execution_count": null,
   "metadata": {},
   "outputs": [],
   "source": [
    "sns.boxplot(data['Rating'])"
   ]
  },
  {
   "cell_type": "code",
   "execution_count": null,
   "metadata": {},
   "outputs": [],
   "source": [
    "#data['Rating'].fillna(data['Rating'].mean(), inplace= True)"
   ]
  },
  {
   "cell_type": "code",
   "execution_count": null,
   "metadata": {},
   "outputs": [],
   "source": [
    "data['Category'].value_counts()"
   ]
  },
  {
   "cell_type": "code",
   "execution_count": null,
   "metadata": {},
   "outputs": [],
   "source": [
    "sns.boxplot(data['Rating'])"
   ]
  },
  {
   "cell_type": "code",
   "execution_count": null,
   "metadata": {},
   "outputs": [],
   "source": []
  },
  {
   "cell_type": "code",
   "execution_count": null,
   "metadata": {},
   "outputs": [],
   "source": []
  },
  {
   "cell_type": "code",
   "execution_count": null,
   "metadata": {},
   "outputs": [],
   "source": []
  },
  {
   "cell_type": "code",
   "execution_count": null,
   "metadata": {
    "scrolled": true
   },
   "outputs": [],
   "source": [
    "heat=data.corr()"
   ]
  },
  {
   "cell_type": "code",
   "execution_count": null,
   "metadata": {},
   "outputs": [],
   "source": [
    "sns.heatmap(heat)"
   ]
  },
  {
   "cell_type": "code",
   "execution_count": null,
   "metadata": {},
   "outputs": [],
   "source": [
    "#data[\"Size\"]=data[\"Size\"].str.replace(\"M\",\"\")\n",
    "#data[\"Size\"]=data[\"Size\"].str.replace(\"k\",\"\")\n",
    "#data[\"Installs\"]=data[\"Installs\"].str.replace(\"+\",\"\")\n",
    "#data[\"Installs\"]=data[\"Installs\"].str.replace(\",\",\"\")\n",
    "\n",
    "\n",
    "#data[\"Installs\"]= pd.to_numeric(data[\"Installs\"].astype(float))\n"
   ]
  },
  {
   "cell_type": "code",
   "execution_count": null,
   "metadata": {},
   "outputs": [],
   "source": [
    "#removing dulicates\n",
    "#print('Duplicates:\\n',data.duplicated().value_counts())"
   ]
  },
  {
   "cell_type": "code",
   "execution_count": null,
   "metadata": {},
   "outputs": [],
   "source": [
    "#data.drop_duplicates(inplace=True)"
   ]
  },
  {
   "cell_type": "code",
   "execution_count": null,
   "metadata": {},
   "outputs": [],
   "source": [
    "def plotvariable(data2, variable):\n",
    "    plt.figure(figsize=(16,4))\n",
    "    plt.subplot(1,2,1)\n",
    "    plt.hist(data2[variable],alpha =0.5)\n",
    "    \n",
    "    plt.subplot(1,2,2)\n",
    "    sns.boxplot(data2[variable])\n",
    "    plt.show()"
   ]
  },
  {
   "cell_type": "code",
   "execution_count": null,
   "metadata": {},
   "outputs": [],
   "source": [
    "\n",
    "plotvariable(data2, 'Rating Count')"
   ]
  },
  {
   "cell_type": "code",
   "execution_count": null,
   "metadata": {},
   "outputs": [],
   "source": [
    "def find_boundrs(data2,variable):\n",
    "    q1 = data2[variable].quantile(.05)\n",
    "    q3 = data2[variable].quantile(.95)\n",
    "    iqr = q3-q1\n",
    "    lowr_bondry = q1 - 1.5 * iqr\n",
    "    upr_bondry = q3 + 1.5 * iqr\n",
    "    \n",
    "    return lowr_bondry , upr_bondry"
   ]
  },
  {
   "cell_type": "code",
   "execution_count": null,
   "metadata": {},
   "outputs": [],
   "source": []
  },
  {
   "cell_type": "code",
   "execution_count": null,
   "metadata": {},
   "outputs": [],
   "source": [
    "\n",
    "\n",
    "data2['Rating Count'] = np.where(data['Rating Count'] > upr_rating,upr_rating, \n",
    "                           np.where(data['Rating Count'] < lowr_rating, lowr_rating, data['Rating Count']))"
   ]
  },
  {
   "cell_type": "code",
   "execution_count": null,
   "metadata": {},
   "outputs": [],
   "source": [
    "data2['Rating'].shape"
   ]
  },
  {
   "cell_type": "code",
   "execution_count": null,
   "metadata": {},
   "outputs": [],
   "source": [
    "# Outlier Trimming \n",
    " \n",
    "otlrs= np.where(data['Rating Count'] > upr_rating, True, np.where(data['Rating Count'] < lowr_rating, True, False) )"
   ]
  },
  {
   "cell_type": "code",
   "execution_count": null,
   "metadata": {},
   "outputs": [],
   "source": [
    "otlrs"
   ]
  },
  {
   "cell_type": "code",
   "execution_count": null,
   "metadata": {},
   "outputs": [],
   "source": [
    "new_data = data.iloc[~(otlrs),]"
   ]
  },
  {
   "cell_type": "code",
   "execution_count": null,
   "metadata": {},
   "outputs": [],
   "source": [
    "new_data.shape"
   ]
  },
  {
   "cell_type": "code",
   "execution_count": null,
   "metadata": {
    "scrolled": true
   },
   "outputs": [],
   "source": [
    "plotvariable(new_data, 'Rating Count')"
   ]
  },
  {
   "cell_type": "code",
   "execution_count": null,
   "metadata": {},
   "outputs": [],
   "source": [
    "#(data.isnull()).sum()"
   ]
  },
  {
   "cell_type": "code",
   "execution_count": null,
   "metadata": {},
   "outputs": [],
   "source": [
    "data['Category'].value_counts()                  "
   ]
  },
  {
   "cell_type": "code",
   "execution_count": null,
   "metadata": {},
   "outputs": [],
   "source": [
    "data.describe()"
   ]
  },
  {
   "cell_type": "code",
   "execution_count": null,
   "metadata": {},
   "outputs": [],
   "source": [
    "# Plot of the ratings\n",
    "plt.figure(figsize=(8,8))\n",
    "plt.title('Ratings distribution')\n",
    "sns.distplot(data['Rating'],kde=True,color='orange',fit=stats.norm)\n",
    "plt.legend(['Normal Distribution','Ratings',])"
   ]
  },
  {
   "cell_type": "code",
   "execution_count": null,
   "metadata": {},
   "outputs": [],
   "source": []
  },
  {
   "cell_type": "code",
   "execution_count": null,
   "metadata": {},
   "outputs": [],
   "source": [
    "#data.head()"
   ]
  },
  {
   "cell_type": "code",
   "execution_count": null,
   "metadata": {},
   "outputs": [],
   "source": [
    "#plt.hist(data['Installs'].values)\n",
    "#plt.show()\n",
    "#data['Installs']"
   ]
  },
  {
   "cell_type": "code",
   "execution_count": null,
   "metadata": {},
   "outputs": [],
   "source": [
    "#sns.boxplot(data['Installs'])"
   ]
  },
  {
   "cell_type": "code",
   "execution_count": null,
   "metadata": {},
   "outputs": [],
   "source": [
    "#data.isnull().sum()\n",
    "#data.drop(['Developer Website','Developer Email','Privacy Policy'],inplace=True, axis=1)"
   ]
  },
  {
   "cell_type": "code",
   "execution_count": null,
   "metadata": {},
   "outputs": [],
   "source": [
    "#data[\"Size\"]=data[\"Size\"].str.replace(\"M\",\"\")\n",
    "##data[\"Size\"]=data[\"Size\"].str.replace(\"Varies with device\", \"\")\n",
    "#data[\"Size\"] = pd.to_numeric(data[\"Size\"], errors='coerce')\n",
    "\n",
    "#data=data.replace({\"Size\":\"Varies with device\", 'Minimum Android':\"Varies with device\"}, np.NaN)   \n",
    "\n"
   ]
  },
  {
   "cell_type": "code",
   "execution_count": null,
   "metadata": {},
   "outputs": [],
   "source": []
  },
  {
   "cell_type": "code",
   "execution_count": null,
   "metadata": {},
   "outputs": [],
   "source": [
    "data.isna().sum()"
   ]
  },
  {
   "cell_type": "code",
   "execution_count": null,
   "metadata": {},
   "outputs": [],
   "source": []
  },
  {
   "cell_type": "code",
   "execution_count": null,
   "metadata": {},
   "outputs": [],
   "source": [
    "data[\"Minimum Android\"].value_counts()"
   ]
  },
  {
   "cell_type": "code",
   "execution_count": null,
   "metadata": {},
   "outputs": [],
   "source": [
    "data[\"Size\"].value_counts()"
   ]
  },
  {
   "cell_type": "code",
   "execution_count": null,
   "metadata": {},
   "outputs": [],
   "source": [
    "data[\"Minimum Android\"] =data[\"Minimum Android\"]"
   ]
  },
  {
   "cell_type": "code",
   "execution_count": null,
   "metadata": {},
   "outputs": [],
   "source": [
    "data[\"Minimum Android\"].value_counts()"
   ]
  },
  {
   "cell_type": "code",
   "execution_count": null,
   "metadata": {},
   "outputs": [],
   "source": [
    "data[\"Size\"].isnull().sum()"
   ]
  },
  {
   "cell_type": "code",
   "execution_count": null,
   "metadata": {},
   "outputs": [],
   "source": [
    "data[\"Size\"].describe()"
   ]
  },
  {
   "cell_type": "code",
   "execution_count": null,
   "metadata": {},
   "outputs": [],
   "source": [
    "#data['Size'].replace(to_replace = \"Varies with device\", value =-99999) \n",
    "data['Size'].value_counts()"
   ]
  },
  {
   "cell_type": "code",
   "execution_count": null,
   "metadata": {},
   "outputs": [],
   "source": [
    "data[\"Size\"].describe()"
   ]
  },
  {
   "cell_type": "code",
   "execution_count": null,
   "metadata": {},
   "outputs": [],
   "source": []
  },
  {
   "cell_type": "code",
   "execution_count": null,
   "metadata": {},
   "outputs": [],
   "source": [
    "data[\"Size\"].value_counts()"
   ]
  },
  {
   "cell_type": "code",
   "execution_count": null,
   "metadata": {},
   "outputs": [],
   "source": [
    "data[\"Installs\"]=data[\"Installs\"].str.replace(\"+\",\"\")\n",
    "data[\"Installs\"]=data[\"Installs\"].str.replace(\",\",\"\")\n",
    "\n",
    "data[\"Installs\"].value_counts()"
   ]
  },
  {
   "cell_type": "code",
   "execution_count": null,
   "metadata": {},
   "outputs": [],
   "source": []
  },
  {
   "cell_type": "code",
   "execution_count": null,
   "metadata": {
    "scrolled": true
   },
   "outputs": [],
   "source": [
    "data[\"Rating\"].fillna(data['Rating'].median(), inplace=True)\n",
    "data[\"Rating Count\"].fillna(data['Rating Count'].median(), inplace=True)\n",
    "data[\"Minimum Installs\"].fillna(data['Minimum Installs'].median(), inplace=True)\n",
    "data[\"Installs\"].fillna(data['Installs'].median(), inplace=True)\n",
    "data[\"Currency\"].fillna(value=\"USD\", inplace= True)\n",
    "data[\"Category\"].fillna(value=\"Education\", inplace= True)"
   ]
  },
  {
   "cell_type": "code",
   "execution_count": null,
   "metadata": {},
   "outputs": [],
   "source": [
    "data[\"Installs\"]=data[\"Installs\"].astype(float)"
   ]
  },
  {
   "cell_type": "code",
   "execution_count": null,
   "metadata": {},
   "outputs": [],
   "source": [
    "data.isnull().sum()"
   ]
  },
  {
   "cell_type": "code",
   "execution_count": null,
   "metadata": {},
   "outputs": [],
   "source": [
    "data.isna().sum()"
   ]
  },
  {
   "cell_type": "code",
   "execution_count": null,
   "metadata": {},
   "outputs": [],
   "source": []
  },
  {
   "cell_type": "code",
   "execution_count": null,
   "metadata": {},
   "outputs": [],
   "source": [
    "data.head()"
   ]
  },
  {
   "cell_type": "code",
   "execution_count": null,
   "metadata": {},
   "outputs": [],
   "source": [
    "data.dtypes"
   ]
  },
  {
   "cell_type": "code",
   "execution_count": null,
   "metadata": {},
   "outputs": [],
   "source": [
    "data.info()"
   ]
  },
  {
   "cell_type": "code",
   "execution_count": null,
   "metadata": {},
   "outputs": [],
   "source": []
  },
  {
   "cell_type": "code",
   "execution_count": null,
   "metadata": {},
   "outputs": [],
   "source": [
    "data.shape"
   ]
  },
  {
   "cell_type": "code",
   "execution_count": null,
   "metadata": {},
   "outputs": [],
   "source": [
    "data.isnull().sum()"
   ]
  },
  {
   "cell_type": "code",
   "execution_count": null,
   "metadata": {},
   "outputs": [],
   "source": [
    "data.describe()"
   ]
  },
  {
   "cell_type": "code",
   "execution_count": null,
   "metadata": {},
   "outputs": [],
   "source": [
    "data.describe()"
   ]
  },
  {
   "cell_type": "code",
   "execution_count": null,
   "metadata": {},
   "outputs": [],
   "source": [
    "data3=data.corr()"
   ]
  },
  {
   "cell_type": "code",
   "execution_count": null,
   "metadata": {},
   "outputs": [],
   "source": [
    "data3[\"Price\"].sort_values(ascending=False)"
   ]
  },
  {
   "cell_type": "code",
   "execution_count": null,
   "metadata": {},
   "outputs": [],
   "source": []
  },
  {
   "cell_type": "code",
   "execution_count": null,
   "metadata": {},
   "outputs": [],
   "source": [
    "data.isnull().sum()"
   ]
  },
  {
   "cell_type": "code",
   "execution_count": null,
   "metadata": {},
   "outputs": [],
   "source": [
    "data[\"Ad Supported\"].value_counts()"
   ]
  },
  {
   "cell_type": "code",
   "execution_count": null,
   "metadata": {},
   "outputs": [],
   "source": [
    "import datetime"
   ]
  },
  {
   "cell_type": "code",
   "execution_count": null,
   "metadata": {},
   "outputs": [],
   "source": [
    "datetime.date.today()"
   ]
  },
  {
   "cell_type": "code",
   "execution_count": null,
   "metadata": {},
   "outputs": [],
   "source": [
    "data[\"Released\"]=data[\"Released\"]=pd._todatetime\n",
    "data[\"Last Updated\"]=data[\"Last Updated\"]"
   ]
  },
  {
   "cell_type": "code",
   "execution_count": null,
   "metadata": {},
   "outputs": [],
   "source": [
    "data[\"Released\"]=data[\"Released\"].datetime.date(data[\"Released\"])"
   ]
  },
  {
   "cell_type": "code",
   "execution_count": null,
   "metadata": {},
   "outputs": [],
   "source": [
    "for items in data[\"Released\"]:\n",
    "    string_date=str(data[\"Released\"])\n",
    "    format= \"%m-%d-%Y\"\n",
    "    datetime_object=datetime.datetime.strptime(string_date,format)"
   ]
  },
  {
   "cell_type": "code",
   "execution_count": null,
   "metadata": {},
   "outputs": [],
   "source": [
    "from scipy import stats"
   ]
  },
  {
   "cell_type": "code",
   "execution_count": null,
   "metadata": {},
   "outputs": [],
   "source": [
    "zscore= np.abs(stats.zscore(data2))"
   ]
  },
  {
   "cell_type": "code",
   "execution_count": null,
   "metadata": {},
   "outputs": [],
   "source": [
    "zscore"
   ]
  },
  {
   "cell_type": "code",
   "execution_count": null,
   "metadata": {},
   "outputs": [],
   "source": [
    "threshold =3\n",
    "print(np.where(zscore > 3))"
   ]
  },
  {
   "cell_type": "code",
   "execution_count": null,
   "metadata": {},
   "outputs": [],
   "source": [
    "print(zscore[3][3])"
   ]
  },
  {
   "cell_type": "code",
   "execution_count": null,
   "metadata": {},
   "outputs": [],
   "source": [
    "iqr=data2\n",
    "q1= iqr.quantile(0.25)\n",
    "q3= iqr.quantile(0.75)\n",
    "iqr_result= q3-q1\n",
    "print(iqr_result)"
   ]
  },
  {
   "cell_type": "code",
   "execution_count": null,
   "metadata": {},
   "outputs": [],
   "source": [
    "print(iqr < (q1 -1.5 * iqr_result)) | (iqr > (q3 + 1.5 * iqr_result))"
   ]
  },
  {
   "cell_type": "code",
   "execution_count": null,
   "metadata": {},
   "outputs": [],
   "source": []
  },
  {
   "cell_type": "code",
   "execution_count": null,
   "metadata": {},
   "outputs": [],
   "source": []
  },
  {
   "cell_type": "code",
   "execution_count": null,
   "metadata": {},
   "outputs": [],
   "source": [
    "sns.boxplot(x=data2[\"Rating\"])"
   ]
  },
  {
   "cell_type": "code",
   "execution_count": null,
   "metadata": {},
   "outputs": [],
   "source": [
    "Rating\t\tInstalls\t\tMaximum Installs Price"
   ]
  },
  {
   "cell_type": "code",
   "execution_count": null,
   "metadata": {},
   "outputs": [],
   "source": [
    "sns.boxplot(x=data2[\"Rating Count\"])"
   ]
  },
  {
   "cell_type": "code",
   "execution_count": null,
   "metadata": {},
   "outputs": [],
   "source": [
    "sns.boxplot(x=data2[\"Installs\"])"
   ]
  },
  {
   "cell_type": "code",
   "execution_count": null,
   "metadata": {},
   "outputs": [],
   "source": [
    "sns.boxplot(x=data2[\"Minimum Installs\"])"
   ]
  },
  {
   "cell_type": "code",
   "execution_count": null,
   "metadata": {},
   "outputs": [],
   "source": [
    "x= data2[\"Rating\"]\n",
    "y=data2[\"Price\"]\n",
    "plt.scatter(x,y, c=\"red\")\n",
    "\n",
    "plt.show()"
   ]
  },
  {
   "cell_type": "code",
   "execution_count": null,
   "metadata": {},
   "outputs": [],
   "source": []
  },
  {
   "cell_type": "code",
   "execution_count": null,
   "metadata": {},
   "outputs": [],
   "source": []
  },
  {
   "cell_type": "code",
   "execution_count": null,
   "metadata": {},
   "outputs": [],
   "source": []
  },
  {
   "cell_type": "code",
   "execution_count": null,
   "metadata": {},
   "outputs": [],
   "source": []
  },
  {
   "cell_type": "code",
   "execution_count": null,
   "metadata": {},
   "outputs": [],
   "source": []
  },
  {
   "cell_type": "code",
   "execution_count": null,
   "metadata": {},
   "outputs": [],
   "source": [
    "from scipy.stats import skew"
   ]
  },
  {
   "cell_type": "code",
   "execution_count": null,
   "metadata": {},
   "outputs": [],
   "source": [
    "for col in data2:\n",
    "    print(col)\n",
    "    print(skew(data2[col]))\n",
    "    \n",
    "    plt.figure()\n",
    "    sns.distplot(data2[col])\n",
    "    plt.show()"
   ]
  },
  {
   "cell_type": "code",
   "execution_count": null,
   "metadata": {},
   "outputs": [],
   "source": [
    "log_data= np.log10(data2[\"Maximum Installs\"])\n",
    "log_data.head()"
   ]
  },
  {
   "cell_type": "code",
   "execution_count": null,
   "metadata": {},
   "outputs": [],
   "source": []
  },
  {
   "cell_type": "code",
   "execution_count": null,
   "metadata": {},
   "outputs": [],
   "source": []
  },
  {
   "cell_type": "code",
   "execution_count": null,
   "metadata": {},
   "outputs": [],
   "source": []
  },
  {
   "cell_type": "code",
   "execution_count": null,
   "metadata": {},
   "outputs": [],
   "source": []
  },
  {
   "cell_type": "code",
   "execution_count": null,
   "metadata": {},
   "outputs": [],
   "source": []
  },
  {
   "cell_type": "code",
   "execution_count": null,
   "metadata": {},
   "outputs": [],
   "source": []
  },
  {
   "cell_type": "code",
   "execution_count": null,
   "metadata": {},
   "outputs": [],
   "source": []
  },
  {
   "cell_type": "code",
   "execution_count": null,
   "metadata": {},
   "outputs": [],
   "source": []
  },
  {
   "cell_type": "code",
   "execution_count": null,
   "metadata": {},
   "outputs": [],
   "source": []
  },
  {
   "cell_type": "code",
   "execution_count": null,
   "metadata": {},
   "outputs": [],
   "source": [
    "from sklearn.linear_model import LinearRegression\n",
    "from sklearn.model_selection import train_test_split\n",
    "from sklearn.metrics import accuracy_score\n",
    "from sklearn.preprocessing import LabelEncoder"
   ]
  },
  {
   "cell_type": "code",
   "execution_count": null,
   "metadata": {},
   "outputs": [],
   "source": [
    "sns.boxplot(x=data2[\"Maximum Installs\"])"
   ]
  },
  {
   "cell_type": "code",
   "execution_count": null,
   "metadata": {},
   "outputs": [],
   "source": [
    "sns.boxplot(x=data2[\"Price\"])"
   ]
  },
  {
   "cell_type": "code",
   "execution_count": null,
   "metadata": {},
   "outputs": [],
   "source": [
    "data2_clean=data2\n",
    "data2_clean=data2_clean[(zscore < 3).all(axis=1)]"
   ]
  },
  {
   "cell_type": "code",
   "execution_count": null,
   "metadata": {},
   "outputs": [],
   "source": [
    "data2_clean.shape"
   ]
  },
  {
   "cell_type": "code",
   "execution_count": null,
   "metadata": {},
   "outputs": [],
   "source": [
    "data2.shape"
   ]
  },
  {
   "cell_type": "code",
   "execution_count": null,
   "metadata": {},
   "outputs": [],
   "source": []
  },
  {
   "cell_type": "code",
   "execution_count": null,
   "metadata": {},
   "outputs": [],
   "source": []
  },
  {
   "cell_type": "code",
   "execution_count": null,
   "metadata": {},
   "outputs": [],
   "source": []
  },
  {
   "cell_type": "code",
   "execution_count": null,
   "metadata": {},
   "outputs": [],
   "source": []
  },
  {
   "cell_type": "code",
   "execution_count": null,
   "metadata": {},
   "outputs": [],
   "source": []
  },
  {
   "cell_type": "code",
   "execution_count": null,
   "metadata": {},
   "outputs": [],
   "source": []
  },
  {
   "cell_type": "code",
   "execution_count": null,
   "metadata": {},
   "outputs": [],
   "source": []
  },
  {
   "cell_type": "code",
   "execution_count": null,
   "metadata": {},
   "outputs": [],
   "source": []
  },
  {
   "cell_type": "code",
   "execution_count": null,
   "metadata": {},
   "outputs": [],
   "source": []
  },
  {
   "cell_type": "code",
   "execution_count": null,
   "metadata": {},
   "outputs": [],
   "source": [
    "x=data2.drop([\"Price\"],axis=1).values\n",
    "y=data2[\"Price\"].values\n",
    "m=len(x)\n",
    "labelencd= LabelEncoder()"
   ]
  },
  {
   "cell_type": "code",
   "execution_count": null,
   "metadata": {},
   "outputs": [],
   "source": [
    "#data2['Ad Supported']=labelencd.fit_transform(data2['Ad Supported'])\n",
    "#data2['In App Purchases']=labelencd.fit_transform(data2['In App Purchases'])\n",
    "#data2['Editors Choice']=labelencd.fit_transform(data2['Editors Choice'])\n",
    "#data2['Free']=labelencd.fit_transform(data2['Free'])\n",
    "\n",
    "#data2.head()"
   ]
  },
  {
   "cell_type": "code",
   "execution_count": null,
   "metadata": {},
   "outputs": [],
   "source": [
    "x_train,x_test,y_train,y_test=train_test_split(x,y, test_size=0.2, random_state=1)\n",
    "print(x_train[:5])"
   ]
  },
  {
   "cell_type": "code",
   "execution_count": null,
   "metadata": {},
   "outputs": [],
   "source": [
    "reg=LinearRegression()\n",
    "reg=reg.fit(x_train,y_train)"
   ]
  },
  {
   "cell_type": "code",
   "execution_count": null,
   "metadata": {},
   "outputs": [],
   "source": [
    "data.columns"
   ]
  },
  {
   "cell_type": "code",
   "execution_count": null,
   "metadata": {},
   "outputs": [],
   "source": [
    "data2=data.drop(['App Name', 'App Id', 'Category','Currency', 'Size', 'Minimum Android', 'Developer Id', 'Developer Website', 'Developer Email', 'Released', 'Last Updated', 'Content Rating', 'Privacy Policy'],axis=1)"
   ]
  },
  {
   "cell_type": "code",
   "execution_count": null,
   "metadata": {},
   "outputs": [],
   "source": [
    "data2.head()"
   ]
  },
  {
   "cell_type": "code",
   "execution_count": null,
   "metadata": {},
   "outputs": [],
   "source": [
    "print(reg.coef_)"
   ]
  },
  {
   "cell_type": "code",
   "execution_count": null,
   "metadata": {},
   "outputs": [],
   "source": [
    "print(reg.intercept_)"
   ]
  },
  {
   "cell_type": "code",
   "execution_count": null,
   "metadata": {},
   "outputs": [],
   "source": [
    "y_predict=reg.predict(x_test)"
   ]
  },
  {
   "cell_type": "code",
   "execution_count": null,
   "metadata": {},
   "outputs": [],
   "source": [
    "from sklearn.metrics import r2_score, mean_squared_error"
   ]
  },
  {
   "cell_type": "code",
   "execution_count": null,
   "metadata": {},
   "outputs": [],
   "source": [
    "rmse= np.sqrt(mean_squared_error(y_test, y_predict))\n",
    "print(rmse)"
   ]
  },
  {
   "cell_type": "code",
   "execution_count": null,
   "metadata": {},
   "outputs": [],
   "source": [
    "r2=r2_score(y_test,y_predict)\n",
    "\n",
    "print(r2)"
   ]
  },
  {
   "cell_type": "code",
   "execution_count": null,
   "metadata": {},
   "outputs": [],
   "source": []
  }
 ],
 "metadata": {
  "kernelspec": {
   "display_name": "Python 3",
   "language": "python",
   "name": "python3"
  },
  "language_info": {
   "codemirror_mode": {
    "name": "ipython",
    "version": 3
   },
   "file_extension": ".py",
   "mimetype": "text/x-python",
   "name": "python",
   "nbconvert_exporter": "python",
   "pygments_lexer": "ipython3",
   "version": "3.7.6"
  }
 },
 "nbformat": 4,
 "nbformat_minor": 2
}
