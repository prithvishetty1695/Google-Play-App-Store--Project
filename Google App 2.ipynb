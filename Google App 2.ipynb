{
 "cells": [
  {
   "cell_type": "code",
   "execution_count": 1,
   "metadata": {},
   "outputs": [],
   "source": [
    "import pandas as pd\n",
    "import numpy as np\n",
    "import matplotlib.pyplot as plt\n",
    "%matplotlib inline\n",
    "from scipy import stats\n",
    "import seaborn as sns\n",
    "from sklearn.preprocessing import StandardScaler\n",
    "from sklearn.preprocessing import MinMaxScaler\n",
    "import datetime\n",
    "from scipy.stats import zscore"
   ]
  },
  {
   "cell_type": "code",
   "execution_count": 2,
   "metadata": {},
   "outputs": [],
   "source": [
    "data=pd.read_csv(\"C:/Users/Prithvi Shetty/Downloads/Google App Project/Project Final/archive/Google-Playstore.csv\")"
   ]
  },
  {
   "cell_type": "code",
   "execution_count": 3,
   "metadata": {},
   "outputs": [],
   "source": [
    "# Data Dropping \n",
    "\n",
    "data.drop([ 'App Id', 'Developer Website','Developer Email','Privacy Policy','Minimum Android'],axis=1, inplace=True)"
   ]
  },
  {
   "cell_type": "code",
   "execution_count": 4,
   "metadata": {},
   "outputs": [],
   "source": [
    "data[\"Released\"].fillna(value=\"Oct 13, 2020\", inplace=True)\n"
   ]
  },
  {
   "cell_type": "code",
   "execution_count": 5,
   "metadata": {},
   "outputs": [],
   "source": [
    "data[\"Released\"]= pd.to_datetime(data['Released'], format='%b %d, %Y',\n",
    "                                 infer_datetime_format=True, errors='coerce')\n",
    "data[\"Last Updated\"]= pd.to_datetime(data['Last Updated'], format='%b %d, %Y',\n",
    "                                 infer_datetime_format=True, errors='coerce')"
   ]
  },
  {
   "cell_type": "code",
   "execution_count": 6,
   "metadata": {},
   "outputs": [],
   "source": [
    "data[\"Last Updated\"]= pd.to_datetime(data['Last Updated'], format='%b %d, %Y',\n",
    "                                 infer_datetime_format=True, errors='coerce')"
   ]
  },
  {
   "cell_type": "code",
   "execution_count": 7,
   "metadata": {},
   "outputs": [],
   "source": [
    "data['Size']= pd.to_numeric(data['Size'].str.replace(r'[a-zA-Z]+', ''), \n",
    "                             errors='coerce')"
   ]
  },
  {
   "cell_type": "code",
   "execution_count": 8,
   "metadata": {},
   "outputs": [],
   "source": [
    "data['Tenurity']= (datetime.datetime(2021, 1, 31) - data['Released']).dt.days\n",
    "data['Maintaninance']= (datetime.datetime(2021, 1, 31) - data['Last Updated']).dt.days"
   ]
  },
  {
   "cell_type": "code",
   "execution_count": 9,
   "metadata": {},
   "outputs": [],
   "source": [
    "data[\"Installs\"]=data[\"Installs\"].str.replace(\"+\",\"\")\n",
    "data[\"Installs\"]=data[\"Installs\"].str.replace(\",\",\"\")\n",
    "data[\"Installs\"]= pd.to_numeric(data[\"Installs\"].astype(float))"
   ]
  },
  {
   "cell_type": "code",
   "execution_count": 10,
   "metadata": {},
   "outputs": [],
   "source": [
    "data.drop(['Price'], inplace=True, axis =1)"
   ]
  },
  {
   "cell_type": "code",
   "execution_count": 11,
   "metadata": {},
   "outputs": [],
   "source": [
    "data['App Name'].fillna(value=\"Tic Tac Toe\",inplace=True)\n",
    "data[\"Rating\"].fillna(data['Rating'].mean(), inplace=True)\n",
    "data[\"Rating Count\"].fillna(data['Rating Count'].median(), inplace=True)\n",
    "data[\"Minimum Installs\"].fillna(data['Minimum Installs'].median(), inplace=True)\n",
    "data[\"Installs\"].fillna(data['Installs'].median(), inplace=True)\n",
    "data[\"Currency\"].fillna(value=\"USD\", inplace= True)\n",
    "data[\"Category\"].fillna(value=\"Education\", inplace= True)\n",
    "data[\"Size\"].fillna(data[\"Size\"].median(), inplace= True)\n",
    "#data[\"App Name\"].fillna(value=\"Tic Tac Toe\",inplace= True)\n",
    "data[\"Developer Id\"].fillna(value=\"Subsplash Inc\",inplace=True)\n",
    "#data[\"Developer Website\"].fillna(value=\"http://www.subsplash.com/\", inplace=True)\n",
    "#data[\"Developer Email\"].fillna(value=\"support@classplus.co\", inplace=True)\n",
    "data[\"Released\"].fillna(value=\"Oct 13, 2020\", inplace=True)\n",
    "#data[\"Privacy Policy\"].fillna(value=\"http://www.cmcm.com/protocol/launcher-theme/privacy.html\", inplace=True)\n",
    "#data[\"Developer Website\"].fillna(value=\"http://www.subsplash.com/\", inplace=True)"
   ]
  },
  {
   "cell_type": "code",
   "execution_count": 12,
   "metadata": {},
   "outputs": [],
   "source": [
    "data.drop(['Minimum Installs'], inplace=True, axis=1)"
   ]
  },
  {
   "cell_type": "code",
   "execution_count": 13,
   "metadata": {},
   "outputs": [],
   "source": [
    "data.drop([ 'Last Updated', 'Released'],axis=1, inplace=True)"
   ]
  },
  {
   "cell_type": "code",
   "execution_count": 14,
   "metadata": {},
   "outputs": [],
   "source": [
    "def find_boundrs(data,variable):\n",
    "    q1 = data[variable].quantile(.25)\n",
    "    q3 = data[variable].quantile(.75)\n",
    "    iqr = q3-q1\n",
    "    lowr_bondry = q1 - 1.5 * iqr\n",
    "    upr_bondry = q3 + 1.5 * iqr\n",
    "    \n",
    "    return lowr_bondry , upr_bondry\n",
    "\n"
   ]
  },
  {
   "cell_type": "code",
   "execution_count": 15,
   "metadata": {},
   "outputs": [
    {
     "name": "stdout",
     "output_type": "stream",
     "text": [
      "Lower Limit :  -148.5\n",
      "Upper Limit :  247.5\n"
     ]
    }
   ],
   "source": [
    "lowr_rating , upr_rating = find_boundrs(data,'Rating Count')\n",
    "print('Lower Limit : ',lowr_rating)\n",
    "print('Upper Limit : ',upr_rating)\n",
    "\n",
    "\n",
    "data['Rating Count'] = np.where(data['Rating Count'] > upr_rating,upr_rating, \n",
    "                           np.where(data['Rating Count'] < lowr_rating, lowr_rating, data['Rating Count']))"
   ]
  },
  {
   "cell_type": "code",
   "execution_count": 16,
   "metadata": {},
   "outputs": [
    {
     "name": "stdout",
     "output_type": "stream",
     "text": [
      "Lower Limit :  -6.449999999999999\n",
      "Upper Limit :  10.75\n"
     ]
    }
   ],
   "source": [
    "lowr_rating , upr_rating = find_boundrs(data,'Rating')\n",
    "print('Lower Limit : ',lowr_rating)\n",
    "print('Upper Limit : ',upr_rating)\n",
    "data['Rating'] = np.where(data['Rating'] > upr_rating,upr_rating, \n",
    "                           np.where(data['Rating'] < lowr_rating, lowr_rating, data['Rating']))"
   ]
  },
  {
   "cell_type": "code",
   "execution_count": 17,
   "metadata": {},
   "outputs": [
    {
     "name": "stdout",
     "output_type": "stream",
     "text": [
      "Lower Limit :  -14750.0\n",
      "Upper Limit :  24850.0\n"
     ]
    }
   ],
   "source": [
    "lowr_rating , upr_rating = find_boundrs(data,'Installs')\n",
    "print('Lower Limit : ',lowr_rating)\n",
    "print('Upper Limit : ',upr_rating)\n",
    "data['Installs'] = np.where(data['Installs'] > upr_rating,upr_rating, \n",
    "                           np.where(data['Installs'] < lowr_rating, lowr_rating, data['Installs']))"
   ]
  },
  {
   "cell_type": "code",
   "execution_count": 18,
   "metadata": {},
   "outputs": [
    {
     "name": "stdout",
     "output_type": "stream",
     "text": [
      "Lower Limit :  -28274.0\n",
      "Upper Limit :  47550.0\n"
     ]
    }
   ],
   "source": [
    "lowr_rating , upr_rating = find_boundrs(data,'Maximum Installs')\n",
    "print('Lower Limit : ',lowr_rating)\n",
    "print('Upper Limit : ',upr_rating)\n",
    "data['Maximum Installs'] = np.where(data['Maximum Installs'] > upr_rating,upr_rating, \n",
    "                           np.where(data['Maximum Installs'] < lowr_rating, lowr_rating, data['Maximum Installs']))"
   ]
  },
  {
   "cell_type": "code",
   "execution_count": 19,
   "metadata": {},
   "outputs": [
    {
     "name": "stdout",
     "output_type": "stream",
     "text": [
      "Lower Limit :  -23.25\n",
      "Upper Limit :  52.349999999999994\n"
     ]
    }
   ],
   "source": [
    "lowr_rating , upr_rating = find_boundrs(data,'Size')\n",
    "print('Lower Limit : ',lowr_rating)\n",
    "print('Upper Limit : ',upr_rating)\n",
    "data['Size'] = np.where(data['Size'] > upr_rating,upr_rating, \n",
    "                           np.where(data['Size'] < lowr_rating, lowr_rating, data['Size']))"
   ]
  },
  {
   "cell_type": "code",
   "execution_count": 20,
   "metadata": {},
   "outputs": [
    {
     "name": "stdout",
     "output_type": "stream",
     "text": [
      "Lower Limit :  -1236.5\n",
      "Upper Limit :  3039.5\n"
     ]
    }
   ],
   "source": [
    "lowr_rating , upr_rating = find_boundrs(data,'Tenurity')\n",
    "print('Lower Limit : ',lowr_rating)\n",
    "print('Upper Limit : ',upr_rating)\n",
    "data['Tenurity'] = np.where(data['Tenurity'] > upr_rating,upr_rating, \n",
    "                           np.where(data['Tenurity'] < lowr_rating, lowr_rating, data['Tenurity']))"
   ]
  },
  {
   "cell_type": "code",
   "execution_count": 21,
   "metadata": {},
   "outputs": [
    {
     "name": "stdout",
     "output_type": "stream",
     "text": [
      "Lower Limit :  -735.5\n",
      "Upper Limit :  1604.5\n"
     ]
    }
   ],
   "source": [
    "lowr_rating , upr_rating = find_boundrs(data,'Maintaninance')\n",
    "print('Lower Limit : ',lowr_rating)\n",
    "print('Upper Limit : ',upr_rating)\n",
    "data['Maintaninance'] = np.where(data['Maintaninance'] > upr_rating,upr_rating, \n",
    "                           np.where(data['Maintaninance'] < lowr_rating, lowr_rating, data['Maintaninance']))"
   ]
  },
  {
   "cell_type": "code",
   "execution_count": null,
   "metadata": {},
   "outputs": [],
   "source": []
  },
  {
   "cell_type": "code",
   "execution_count": null,
   "metadata": {},
   "outputs": [],
   "source": []
  },
  {
   "cell_type": "code",
   "execution_count": 22,
   "metadata": {},
   "outputs": [
    {
     "data": {
      "text/plain": [
       "Education                  115245\n",
       "Music & Audio              104541\n",
       "Entertainment               82079\n",
       "Books & Reference           78969\n",
       "Personalization             73538\n",
       "Tools                       68953\n",
       "Lifestyle                   54586\n",
       "Business                    42210\n",
       "Health & Fitness            31532\n",
       "Productivity                30450\n",
       "Photography                 28942\n",
       "Travel & Local              25971\n",
       "Puzzle                      24954\n",
       "Finance                     24846\n",
       "Food & Drink                24250\n",
       "Sports                      22094\n",
       "News & Magazines            21553\n",
       "Casual                      20509\n",
       "Shopping                    20440\n",
       "Communication               18391\n",
       "Arcade                      17715\n",
       "Social                      16987\n",
       "Simulation                  15372\n",
       "Action                      12628\n",
       "Medical                     12554\n",
       "Art & Design                12322\n",
       "Educational                 11351\n",
       "Maps & Navigation           10468\n",
       "Adventure                   10124\n",
       "Video Players & Editors      9095\n",
       "Auto & Vehicles              6872\n",
       "Beauty                       6236\n",
       "Racing                       6004\n",
       "Role Playing                 5632\n",
       "House & Home                 5475\n",
       "Trivia                       5470\n",
       "Board                        5261\n",
       "Word                         4677\n",
       "Card                         4674\n",
       "Strategy                     4071\n",
       "Events                       3788\n",
       "Weather                      2958\n",
       "Dating                       2883\n",
       "Casino                       2648\n",
       "Music                        2515\n",
       "Libraries & Demo             2382\n",
       "Comics                       2137\n",
       "Parenting                    1784\n",
       "Name: Category, dtype: int64"
      ]
     },
     "execution_count": 22,
     "metadata": {},
     "output_type": "execute_result"
    }
   ],
   "source": [
    "data['Category'].value_counts()"
   ]
  },
  {
   "cell_type": "code",
   "execution_count": 23,
   "metadata": {},
   "outputs": [],
   "source": [
    "sns.set(rc={'figure.figsize':(11.7,8.27)})\n"
   ]
  },
  {
   "cell_type": "code",
   "execution_count": 24,
   "metadata": {},
   "outputs": [
    {
     "data": {
      "text/plain": [
       "<matplotlib.axes._subplots.AxesSubplot at 0x2393ff425c8>"
      ]
     },
     "execution_count": 24,
     "metadata": {},
     "output_type": "execute_result"
    },
    {
     "data": {
      "image/png": "[encoded data removed]",
      "text/plain": [
       "<Figure size 842.4x595.44 with 1 Axes>"
      ]
     },
     "metadata": {},
     "output_type": "display_data"
    }
   ],
   "source": [
    "data.boxplot()"
   ]
  },
  {
   "cell_type": "code",
   "execution_count": 25,
   "metadata": {},
   "outputs": [
    {
     "data": {
      "text/plain": [
       "<matplotlib.axes._subplots.AxesSubplot at 0x23941333b88>"
      ]
     },
     "execution_count": 25,
     "metadata": {},
     "output_type": "execute_result"
    },
    {
     "data": {
      "image/png": "[encoded data removed]",
      "text/plain": [
       "<Figure size 842.4x595.44 with 1 Axes>"
      ]
     },
     "metadata": {},
     "output_type": "display_data"
    }
   ],
   "source": [
    "data.groupby('Category').count().plot()"
   ]
  },
  {
   "cell_type": "code",
   "execution_count": 120,
   "metadata": {},
   "outputs": [
    {
     "data": {
      "text/html": [
       "<div>\n",
       "<style scoped>\n",
       "    .dataframe tbody tr th:only-of-type {\n",
       "        vertical-align: middle;\n",
       "    }\n",
       "\n",
       "    .dataframe tbody tr th {\n",
       "        vertical-align: top;\n",
       "    }\n",
       "\n",
       "    .dataframe thead th {\n",
       "        text-align: right;\n",
       "    }\n",
       "</style>\n",
       "<table border=\"1\" class=\"dataframe\">\n",
       "  <thead>\n",
       "    <tr style=\"text-align: right;\">\n",
       "      <th>Ad Supported</th>\n",
       "      <th>False</th>\n",
       "      <th>True</th>\n",
       "    </tr>\n",
       "    <tr>\n",
       "      <th>Free</th>\n",
       "      <th></th>\n",
       "      <th></th>\n",
       "    </tr>\n",
       "  </thead>\n",
       "  <tbody>\n",
       "    <tr>\n",
       "      <th>False</th>\n",
       "      <td>43716</td>\n",
       "      <td>3087</td>\n",
       "    </tr>\n",
       "    <tr>\n",
       "      <th>True</th>\n",
       "      <td>348604</td>\n",
       "      <td>722729</td>\n",
       "    </tr>\n",
       "  </tbody>\n",
       "</table>\n",
       "</div>"
      ],
      "text/plain": [
       "Ad Supported   False   True \n",
       "Free                        \n",
       "False          43716    3087\n",
       "True          348604  722729"
      ]
     },
     "execution_count": 120,
     "metadata": {},
     "output_type": "execute_result"
    }
   ],
   "source": [
    "pd.crosstab(data['Free'], data[\"Ad Supported\"].sort_values(ascending=False))\n"
   ]
  },
  {
   "cell_type": "code",
   "execution_count": 117,
   "metadata": {},
   "outputs": [
    {
     "data": {
      "text/plain": [
       "<matplotlib.axes._subplots.AxesSubplot at 0x239428ee4c8>"
      ]
     },
     "execution_count": 117,
     "metadata": {},
     "output_type": "execute_result"
    },
    {
     "data": {
      "image/png": "[encoded data removed]",
      "text/plain": [
       "<Figure size 720x720 with 1 Axes>"
      ]
     },
     "metadata": {},
     "output_type": "display_data"
    }
   ],
   "source": [
    "fig = plt.figure(figsize=(10,10)) \n",
    "fig_dims = (3, 2)\n",
    "\n",
    "\n",
    "# Plot accidents depending on type\n",
    "\n",
    "data[\"Ad Supported\"].value_counts().plot(kind='bar', \n",
    "                                     title=\"Ad Supported\")"
   ]
  },
  {
   "cell_type": "code",
   "execution_count": 119,
   "metadata": {},
   "outputs": [
    {
     "data": {
      "text/plain": [
       "<matplotlib.axes._subplots.AxesSubplot at 0x2392ceb8a88>"
      ]
     },
     "execution_count": 119,
     "metadata": {},
     "output_type": "execute_result"
    },
    {
     "data": {
      "image/png": "[encoded data removed]",
      "text/plain": [
       "<Figure size 842.4x595.44 with 1 Axes>"
      ]
     },
     "metadata": {},
     "output_type": "display_data"
    }
   ],
   "source": [
    "plt.subplot2grid(fig_dims, (0, 0))\n",
    "data['Free'].value_counts().plot(kind='bar', \n",
    "                                     title='Free')\n"
   ]
  },
  {
   "cell_type": "code",
   "execution_count": 99,
   "metadata": {},
   "outputs": [
    {
     "ename": "KeyError",
     "evalue": "'Ad Supported'",
     "output_type": "error",
     "traceback": [
      "\u001b[1;31m---------------------------------------------------------------------------\u001b[0m",
      "\u001b[1;31mKeyError\u001b[0m                                  Traceback (most recent call last)",
      "\u001b[1;32m<ipython-input-99-f37e83a7028e>\u001b[0m in \u001b[0;36m<module>\u001b[1;34m\u001b[0m\n\u001b[1;32m----> 1\u001b[1;33m \u001b[0mdata\u001b[0m\u001b[1;33m[\u001b[0m\u001b[1;34m'Size'\u001b[0m\u001b[1;33m]\u001b[0m\u001b[1;33m.\u001b[0m\u001b[0mgroupby\u001b[0m\u001b[1;33m(\u001b[0m\u001b[1;34m'Ad Supported'\u001b[0m\u001b[1;33m)\u001b[0m\u001b[1;33m.\u001b[0m\u001b[0mcount\u001b[0m\u001b[1;33m(\u001b[0m\u001b[1;33m)\u001b[0m\u001b[1;33m.\u001b[0m\u001b[0mplot\u001b[0m\u001b[1;33m(\u001b[0m\u001b[1;33m)\u001b[0m\u001b[1;33m\u001b[0m\u001b[1;33m\u001b[0m\u001b[0m\n\u001b[0m",
      "\u001b[1;32m~\\anaconda3\\lib\\site-packages\\pandas\\core\\series.py\u001b[0m in \u001b[0;36mgroupby\u001b[1;34m(self, by, axis, level, as_index, sort, group_keys, squeeze, observed)\u001b[0m\n\u001b[0;32m   1685\u001b[0m             \u001b[0mgroup_keys\u001b[0m\u001b[1;33m=\u001b[0m\u001b[0mgroup_keys\u001b[0m\u001b[1;33m,\u001b[0m\u001b[1;33m\u001b[0m\u001b[1;33m\u001b[0m\u001b[0m\n\u001b[0;32m   1686\u001b[0m             \u001b[0msqueeze\u001b[0m\u001b[1;33m=\u001b[0m\u001b[0msqueeze\u001b[0m\u001b[1;33m,\u001b[0m\u001b[1;33m\u001b[0m\u001b[1;33m\u001b[0m\u001b[0m\n\u001b[1;32m-> 1687\u001b[1;33m             \u001b[0mobserved\u001b[0m\u001b[1;33m=\u001b[0m\u001b[0mobserved\u001b[0m\u001b[1;33m,\u001b[0m\u001b[1;33m\u001b[0m\u001b[1;33m\u001b[0m\u001b[0m\n\u001b[0m\u001b[0;32m   1688\u001b[0m         )\n\u001b[0;32m   1689\u001b[0m \u001b[1;33m\u001b[0m\u001b[0m\n",
      "\u001b[1;32m~\\anaconda3\\lib\\site-packages\\pandas\\core\\groupby\\groupby.py\u001b[0m in \u001b[0;36m__init__\u001b[1;34m(self, obj, keys, axis, level, grouper, exclusions, selection, as_index, sort, group_keys, squeeze, observed, mutated)\u001b[0m\n\u001b[0;32m    407\u001b[0m                 \u001b[0msort\u001b[0m\u001b[1;33m=\u001b[0m\u001b[0msort\u001b[0m\u001b[1;33m,\u001b[0m\u001b[1;33m\u001b[0m\u001b[1;33m\u001b[0m\u001b[0m\n\u001b[0;32m    408\u001b[0m                 \u001b[0mobserved\u001b[0m\u001b[1;33m=\u001b[0m\u001b[0mobserved\u001b[0m\u001b[1;33m,\u001b[0m\u001b[1;33m\u001b[0m\u001b[1;33m\u001b[0m\u001b[0m\n\u001b[1;32m--> 409\u001b[1;33m                 \u001b[0mmutated\u001b[0m\u001b[1;33m=\u001b[0m\u001b[0mself\u001b[0m\u001b[1;33m.\u001b[0m\u001b[0mmutated\u001b[0m\u001b[1;33m,\u001b[0m\u001b[1;33m\u001b[0m\u001b[1;33m\u001b[0m\u001b[0m\n\u001b[0m\u001b[0;32m    410\u001b[0m             )\n\u001b[0;32m    411\u001b[0m \u001b[1;33m\u001b[0m\u001b[0m\n",
      "\u001b[1;32m~\\anaconda3\\lib\\site-packages\\pandas\\core\\groupby\\grouper.py\u001b[0m in \u001b[0;36mget_grouper\u001b[1;34m(obj, key, axis, level, sort, observed, mutated, validate)\u001b[0m\n\u001b[0;32m    596\u001b[0m                 \u001b[0min_axis\u001b[0m\u001b[1;33m,\u001b[0m \u001b[0mname\u001b[0m\u001b[1;33m,\u001b[0m \u001b[0mlevel\u001b[0m\u001b[1;33m,\u001b[0m \u001b[0mgpr\u001b[0m \u001b[1;33m=\u001b[0m \u001b[1;32mFalse\u001b[0m\u001b[1;33m,\u001b[0m \u001b[1;32mNone\u001b[0m\u001b[1;33m,\u001b[0m \u001b[0mgpr\u001b[0m\u001b[1;33m,\u001b[0m \u001b[1;32mNone\u001b[0m\u001b[1;33m\u001b[0m\u001b[1;33m\u001b[0m\u001b[0m\n\u001b[0;32m    597\u001b[0m             \u001b[1;32melse\u001b[0m\u001b[1;33m:\u001b[0m\u001b[1;33m\u001b[0m\u001b[1;33m\u001b[0m\u001b[0m\n\u001b[1;32m--> 598\u001b[1;33m                 \u001b[1;32mraise\u001b[0m \u001b[0mKeyError\u001b[0m\u001b[1;33m(\u001b[0m\u001b[0mgpr\u001b[0m\u001b[1;33m)\u001b[0m\u001b[1;33m\u001b[0m\u001b[1;33m\u001b[0m\u001b[0m\n\u001b[0m\u001b[0;32m    599\u001b[0m         \u001b[1;32melif\u001b[0m \u001b[0misinstance\u001b[0m\u001b[1;33m(\u001b[0m\u001b[0mgpr\u001b[0m\u001b[1;33m,\u001b[0m \u001b[0mGrouper\u001b[0m\u001b[1;33m)\u001b[0m \u001b[1;32mand\u001b[0m \u001b[0mgpr\u001b[0m\u001b[1;33m.\u001b[0m\u001b[0mkey\u001b[0m \u001b[1;32mis\u001b[0m \u001b[1;32mnot\u001b[0m \u001b[1;32mNone\u001b[0m\u001b[1;33m:\u001b[0m\u001b[1;33m\u001b[0m\u001b[1;33m\u001b[0m\u001b[0m\n\u001b[0;32m    600\u001b[0m             \u001b[1;31m# Add key to exclusions\u001b[0m\u001b[1;33m\u001b[0m\u001b[1;33m\u001b[0m\u001b[1;33m\u001b[0m\u001b[0m\n",
      "\u001b[1;31mKeyError\u001b[0m: 'Ad Supported'"
     ]
    }
   ],
   "source": [
    "data['Size'].groupby('Ad Supported').count().plot()"
   ]
  },
  {
   "cell_type": "code",
   "execution_count": null,
   "metadata": {},
   "outputs": [],
   "source": [
    "data.skew().sort_values(ascending=True)"
   ]
  },
  {
   "cell_type": "code",
   "execution_count": null,
   "metadata": {},
   "outputs": [],
   "source": [
    "data.describe()"
   ]
  },
  {
   "cell_type": "code",
   "execution_count": null,
   "metadata": {},
   "outputs": [],
   "source": [
    "data.drop(['Developer Id'], inplace=True, axis=1)"
   ]
  },
  {
   "cell_type": "code",
   "execution_count": null,
   "metadata": {},
   "outputs": [],
   "source": [
    "data.head(10)"
   ]
  },
  {
   "cell_type": "code",
   "execution_count": null,
   "metadata": {},
   "outputs": [],
   "source": []
  },
  {
   "cell_type": "code",
   "execution_count": 27,
   "metadata": {},
   "outputs": [],
   "source": [
    "data.drop(['App Name'], inplace=True, axis=1)"
   ]
  },
  {
   "cell_type": "code",
   "execution_count": 28,
   "metadata": {},
   "outputs": [],
   "source": [
    "from sklearn.linear_model import LogisticRegression\n",
    "from sklearn import metrics\n",
    "import seaborn as sns\n",
    "from sklearn.model_selection import train_test_split\n"
   ]
  },
  {
   "cell_type": "code",
   "execution_count": 29,
   "metadata": {},
   "outputs": [],
   "source": [
    "y = data['Ad Supported']\n",
    "x = data.drop('Ad Supported', axis=1)"
   ]
  },
  {
   "cell_type": "code",
   "execution_count": 30,
   "metadata": {},
   "outputs": [],
   "source": [
    "x_train,x_test,y_train,y_test=train_test_split(x,y, test_size=0.2, random_state=1)\n"
   ]
  },
  {
   "cell_type": "code",
   "execution_count": 31,
   "metadata": {},
   "outputs": [],
   "source": [
    "from sklearn.preprocessing import LabelEncoder\n",
    "label_encoder=LabelEncoder()\n",
    "\n",
    "for column in data.columns:\n",
    "    if data[column].dtype == type(object):\n",
    "        data[column] = label_encoder.fit_transform(data[column])"
   ]
  },
  {
   "cell_type": "code",
   "execution_count": null,
   "metadata": {},
   "outputs": [],
   "source": []
  },
  {
   "cell_type": "code",
   "execution_count": null,
   "metadata": {},
   "outputs": [],
   "source": [
    "from sklearn.preprocessing import StandardScaler\n",
    "sc= StandardScaler()\n",
    "x_train = sc.fit_transform(x_train)\n",
    "x_test = sc.transform(x_test)"
   ]
  },
  {
   "cell_type": "code",
   "execution_count": null,
   "metadata": {},
   "outputs": [],
   "source": []
  },
  {
   "cell_type": "code",
   "execution_count": null,
   "metadata": {},
   "outputs": [],
   "source": [
    "y_pred"
   ]
  },
  {
   "cell_type": "code",
   "execution_count": null,
   "metadata": {},
   "outputs": [],
   "source": [
    "from sklearn.preprocessing import LabelEncoder\n",
    "label_encoder=LabelEncoder()\n",
    "\n",
    "for column in data.columns:\n",
    "    if data[column].dtype == type(object):\n",
    "        data[column] = label_encoder.fit_transform(data[column])"
   ]
  },
  {
   "cell_type": "code",
   "execution_count": 32,
   "metadata": {},
   "outputs": [],
   "source": [
    "data.drop(['Content Rating'], inplace=True, axis=1)"
   ]
  },
  {
   "cell_type": "code",
   "execution_count": 33,
   "metadata": {},
   "outputs": [
    {
     "data": {
      "text/html": [
       "<div>\n",
       "<style scoped>\n",
       "    .dataframe tbody tr th:only-of-type {\n",
       "        vertical-align: middle;\n",
       "    }\n",
       "\n",
       "    .dataframe tbody tr th {\n",
       "        vertical-align: top;\n",
       "    }\n",
       "\n",
       "    .dataframe thead th {\n",
       "        text-align: right;\n",
       "    }\n",
       "</style>\n",
       "<table border=\"1\" class=\"dataframe\">\n",
       "  <thead>\n",
       "    <tr style=\"text-align: right;\">\n",
       "      <th></th>\n",
       "      <th>Category</th>\n",
       "      <th>Rating</th>\n",
       "      <th>Rating Count</th>\n",
       "      <th>Installs</th>\n",
       "      <th>Maximum Installs</th>\n",
       "      <th>Free</th>\n",
       "      <th>Currency</th>\n",
       "      <th>Size</th>\n",
       "      <th>Developer Id</th>\n",
       "      <th>Ad Supported</th>\n",
       "      <th>In App Purchases</th>\n",
       "      <th>Editors Choice</th>\n",
       "      <th>Tenurity</th>\n",
       "      <th>Maintaninance</th>\n",
       "    </tr>\n",
       "  </thead>\n",
       "  <tbody>\n",
       "    <tr>\n",
       "      <th>0</th>\n",
       "      <td>13</td>\n",
       "      <td>3.6</td>\n",
       "      <td>247.5</td>\n",
       "      <td>24850.0</td>\n",
       "      <td>47550.0</td>\n",
       "      <td>True</td>\n",
       "      <td>50</td>\n",
       "      <td>2.70</td>\n",
       "      <td>145615</td>\n",
       "      <td>False</td>\n",
       "      <td>False</td>\n",
       "      <td>False</td>\n",
       "      <td>2729.0</td>\n",
       "      <td>1352.0</td>\n",
       "    </tr>\n",
       "    <tr>\n",
       "      <th>1</th>\n",
       "      <td>41</td>\n",
       "      <td>4.3</td>\n",
       "      <td>247.5</td>\n",
       "      <td>24850.0</td>\n",
       "      <td>47550.0</td>\n",
       "      <td>True</td>\n",
       "      <td>50</td>\n",
       "      <td>52.35</td>\n",
       "      <td>119922</td>\n",
       "      <td>True</td>\n",
       "      <td>True</td>\n",
       "      <td>False</td>\n",
       "      <td>927.0</td>\n",
       "      <td>66.0</td>\n",
       "    </tr>\n",
       "    <tr>\n",
       "      <th>2</th>\n",
       "      <td>42</td>\n",
       "      <td>4.2</td>\n",
       "      <td>247.5</td>\n",
       "      <td>24850.0</td>\n",
       "      <td>47550.0</td>\n",
       "      <td>True</td>\n",
       "      <td>50</td>\n",
       "      <td>5.80</td>\n",
       "      <td>132141</td>\n",
       "      <td>True</td>\n",
       "      <td>False</td>\n",
       "      <td>False</td>\n",
       "      <td>1791.0</td>\n",
       "      <td>102.0</td>\n",
       "    </tr>\n",
       "    <tr>\n",
       "      <th>3</th>\n",
       "      <td>8</td>\n",
       "      <td>4.2</td>\n",
       "      <td>247.5</td>\n",
       "      <td>24850.0</td>\n",
       "      <td>47550.0</td>\n",
       "      <td>True</td>\n",
       "      <td>50</td>\n",
       "      <td>52.35</td>\n",
       "      <td>86333</td>\n",
       "      <td>True</td>\n",
       "      <td>True</td>\n",
       "      <td>False</td>\n",
       "      <td>3039.5</td>\n",
       "      <td>69.0</td>\n",
       "    </tr>\n",
       "    <tr>\n",
       "      <th>4</th>\n",
       "      <td>28</td>\n",
       "      <td>4.2</td>\n",
       "      <td>247.5</td>\n",
       "      <td>24850.0</td>\n",
       "      <td>47550.0</td>\n",
       "      <td>True</td>\n",
       "      <td>50</td>\n",
       "      <td>29.00</td>\n",
       "      <td>13241</td>\n",
       "      <td>False</td>\n",
       "      <td>False</td>\n",
       "      <td>False</td>\n",
       "      <td>1590.0</td>\n",
       "      <td>70.0</td>\n",
       "    </tr>\n",
       "  </tbody>\n",
       "</table>\n",
       "</div>"
      ],
      "text/plain": [
       "   Category  Rating  Rating Count  Installs  Maximum Installs  Free  Currency  \\\n",
       "0        13     3.6         247.5   24850.0           47550.0  True        50   \n",
       "1        41     4.3         247.5   24850.0           47550.0  True        50   \n",
       "2        42     4.2         247.5   24850.0           47550.0  True        50   \n",
       "3         8     4.2         247.5   24850.0           47550.0  True        50   \n",
       "4        28     4.2         247.5   24850.0           47550.0  True        50   \n",
       "\n",
       "    Size  Developer Id  Ad Supported  In App Purchases  Editors Choice  \\\n",
       "0   2.70        145615         False             False           False   \n",
       "1  52.35        119922          True              True           False   \n",
       "2   5.80        132141          True             False           False   \n",
       "3  52.35         86333          True              True           False   \n",
       "4  29.00         13241         False             False           False   \n",
       "\n",
       "   Tenurity  Maintaninance  \n",
       "0    2729.0         1352.0  \n",
       "1     927.0           66.0  \n",
       "2    1791.0          102.0  \n",
       "3    3039.5           69.0  \n",
       "4    1590.0           70.0  "
      ]
     },
     "execution_count": 33,
     "metadata": {},
     "output_type": "execute_result"
    }
   ],
   "source": [
    "data.head()"
   ]
  },
  {
   "cell_type": "code",
   "execution_count": 34,
   "metadata": {},
   "outputs": [],
   "source": [
    "from sklearn.linear_model import LogisticRegression\n",
    "from sklearn import metrics\n",
    "import seaborn as sns"
   ]
  },
  {
   "cell_type": "code",
   "execution_count": null,
   "metadata": {},
   "outputs": [],
   "source": [
    "x.info()"
   ]
  },
  {
   "cell_type": "code",
   "execution_count": 35,
   "metadata": {},
   "outputs": [],
   "source": [
    "y = data['Ad Supported']\n",
    "x = data.drop('Ad Supported', axis=1)"
   ]
  },
  {
   "cell_type": "code",
   "execution_count": 61,
   "metadata": {},
   "outputs": [
    {
     "name": "stderr",
     "output_type": "stream",
     "text": [
      "C:\\Users\\Prithvi Shetty\\anaconda3\\lib\\site-packages\\sklearn\\linear_model\\_logistic.py:940: ConvergenceWarning: lbfgs failed to converge (status=1):\n",
      "STOP: TOTAL NO. of ITERATIONS REACHED LIMIT.\n",
      "\n",
      "Increase the number of iterations (max_iter) or scale the data as shown in:\n",
      "    https://scikit-learn.org/stable/modules/preprocessing.html\n",
      "Please also refer to the documentation for alternative solver options:\n",
      "    https://scikit-learn.org/stable/modules/linear_model.html#logistic-regression\n",
      "  extra_warning_msg=_LOGISTIC_SOLVER_CONVERGENCE_MSG)\n"
     ]
    },
    {
     "data": {
      "text/plain": [
       "LogisticRegression(C=1.0, class_weight=None, dual=False, fit_intercept=True,\n",
       "                   intercept_scaling=1, l1_ratio=None, max_iter=100,\n",
       "                   multi_class='auto', n_jobs=None, penalty='l2',\n",
       "                   random_state=None, solver='lbfgs', tol=0.0001, verbose=0,\n",
       "                   warm_start=False)"
      ]
     },
     "execution_count": 61,
     "metadata": {},
     "output_type": "execute_result"
    }
   ],
   "source": [
    "from sklearn.model_selection import train_test_split\n",
    "x_train,x_test,y_train,y_test=train_test_split(x,y, test_size=0.2, random_state=1)\n",
    "logmodel=LogisticRegression()\n",
    "logmodel.fit(x_train, y_train)"
   ]
  },
  {
   "cell_type": "code",
   "execution_count": 39,
   "metadata": {},
   "outputs": [],
   "source": [
    "predictions = logmodel.predict(x_test)"
   ]
  },
  {
   "cell_type": "code",
   "execution_count": 41,
   "metadata": {},
   "outputs": [],
   "source": [
    "from sklearn.metrics import classification_report\n",
    "from sklearn.metrics import confusion_matrix\n",
    "classification_report(y_test,predictions)"
   ]
  },
  {
   "cell_type": "code",
   "execution_count": 44,
   "metadata": {},
   "outputs": [
    {
     "data": {
      "text/plain": [
       "array([[ 14944,  63101],\n",
       "       [  9402, 136181]], dtype=int64)"
      ]
     },
     "execution_count": 44,
     "metadata": {},
     "output_type": "execute_result"
    }
   ],
   "source": [
    "confusion_matrix(y_test,predictions)"
   ]
  },
  {
   "cell_type": "code",
   "execution_count": 50,
   "metadata": {},
   "outputs": [],
   "source": [
    "from sklearn.metrics import accuracy_score, f1_score"
   ]
  },
  {
   "cell_type": "code",
   "execution_count": 46,
   "metadata": {},
   "outputs": [
    {
     "data": {
      "text/plain": [
       "0.6757874684744307"
      ]
     },
     "execution_count": 46,
     "metadata": {},
     "output_type": "execute_result"
    }
   ],
   "source": [
    "accuracy_score(y_test,predictions)"
   ]
  },
  {
   "cell_type": "code",
   "execution_count": 51,
   "metadata": {},
   "outputs": [
    {
     "data": {
      "text/plain": [
       "0.7897641105940005"
      ]
     },
     "execution_count": 51,
     "metadata": {},
     "output_type": "execute_result"
    }
   ],
   "source": [
    "f1_score(predictions , y_test)"
   ]
  },
  {
   "cell_type": "code",
   "execution_count": 47,
   "metadata": {},
   "outputs": [
    {
     "data": {
      "text/html": [
       "<div>\n",
       "<style scoped>\n",
       "    .dataframe tbody tr th:only-of-type {\n",
       "        vertical-align: middle;\n",
       "    }\n",
       "\n",
       "    .dataframe tbody tr th {\n",
       "        vertical-align: top;\n",
       "    }\n",
       "\n",
       "    .dataframe thead th {\n",
       "        text-align: right;\n",
       "    }\n",
       "</style>\n",
       "<table border=\"1\" class=\"dataframe\">\n",
       "  <thead>\n",
       "    <tr style=\"text-align: right;\">\n",
       "      <th></th>\n",
       "      <th>Category</th>\n",
       "      <th>Rating</th>\n",
       "      <th>Rating Count</th>\n",
       "      <th>Installs</th>\n",
       "      <th>Maximum Installs</th>\n",
       "      <th>Free</th>\n",
       "      <th>Currency</th>\n",
       "      <th>Size</th>\n",
       "      <th>Developer Id</th>\n",
       "      <th>In App Purchases</th>\n",
       "      <th>Editors Choice</th>\n",
       "      <th>Tenurity</th>\n",
       "      <th>Maintaninance</th>\n",
       "    </tr>\n",
       "  </thead>\n",
       "  <tbody>\n",
       "    <tr>\n",
       "      <th>0</th>\n",
       "      <td>13</td>\n",
       "      <td>3.6</td>\n",
       "      <td>247.5</td>\n",
       "      <td>24850.0</td>\n",
       "      <td>47550.0</td>\n",
       "      <td>True</td>\n",
       "      <td>50</td>\n",
       "      <td>2.70</td>\n",
       "      <td>145615</td>\n",
       "      <td>False</td>\n",
       "      <td>False</td>\n",
       "      <td>2729.0</td>\n",
       "      <td>1352.0</td>\n",
       "    </tr>\n",
       "    <tr>\n",
       "      <th>1</th>\n",
       "      <td>41</td>\n",
       "      <td>4.3</td>\n",
       "      <td>247.5</td>\n",
       "      <td>24850.0</td>\n",
       "      <td>47550.0</td>\n",
       "      <td>True</td>\n",
       "      <td>50</td>\n",
       "      <td>52.35</td>\n",
       "      <td>119922</td>\n",
       "      <td>True</td>\n",
       "      <td>False</td>\n",
       "      <td>927.0</td>\n",
       "      <td>66.0</td>\n",
       "    </tr>\n",
       "    <tr>\n",
       "      <th>2</th>\n",
       "      <td>42</td>\n",
       "      <td>4.2</td>\n",
       "      <td>247.5</td>\n",
       "      <td>24850.0</td>\n",
       "      <td>47550.0</td>\n",
       "      <td>True</td>\n",
       "      <td>50</td>\n",
       "      <td>5.80</td>\n",
       "      <td>132141</td>\n",
       "      <td>False</td>\n",
       "      <td>False</td>\n",
       "      <td>1791.0</td>\n",
       "      <td>102.0</td>\n",
       "    </tr>\n",
       "    <tr>\n",
       "      <th>3</th>\n",
       "      <td>8</td>\n",
       "      <td>4.2</td>\n",
       "      <td>247.5</td>\n",
       "      <td>24850.0</td>\n",
       "      <td>47550.0</td>\n",
       "      <td>True</td>\n",
       "      <td>50</td>\n",
       "      <td>52.35</td>\n",
       "      <td>86333</td>\n",
       "      <td>True</td>\n",
       "      <td>False</td>\n",
       "      <td>3039.5</td>\n",
       "      <td>69.0</td>\n",
       "    </tr>\n",
       "    <tr>\n",
       "      <th>4</th>\n",
       "      <td>28</td>\n",
       "      <td>4.2</td>\n",
       "      <td>247.5</td>\n",
       "      <td>24850.0</td>\n",
       "      <td>47550.0</td>\n",
       "      <td>True</td>\n",
       "      <td>50</td>\n",
       "      <td>29.00</td>\n",
       "      <td>13241</td>\n",
       "      <td>False</td>\n",
       "      <td>False</td>\n",
       "      <td>1590.0</td>\n",
       "      <td>70.0</td>\n",
       "    </tr>\n",
       "    <tr>\n",
       "      <th>5</th>\n",
       "      <td>25</td>\n",
       "      <td>3.5</td>\n",
       "      <td>247.5</td>\n",
       "      <td>10000.0</td>\n",
       "      <td>38029.0</td>\n",
       "      <td>True</td>\n",
       "      <td>50</td>\n",
       "      <td>12.00</td>\n",
       "      <td>155458</td>\n",
       "      <td>False</td>\n",
       "      <td>False</td>\n",
       "      <td>727.0</td>\n",
       "      <td>86.0</td>\n",
       "    </tr>\n",
       "    <tr>\n",
       "      <th>6</th>\n",
       "      <td>24</td>\n",
       "      <td>4.4</td>\n",
       "      <td>247.5</td>\n",
       "      <td>24850.0</td>\n",
       "      <td>47550.0</td>\n",
       "      <td>True</td>\n",
       "      <td>50</td>\n",
       "      <td>9.40</td>\n",
       "      <td>68137</td>\n",
       "      <td>True</td>\n",
       "      <td>False</td>\n",
       "      <td>1117.0</td>\n",
       "      <td>489.0</td>\n",
       "    </tr>\n",
       "    <tr>\n",
       "      <th>7</th>\n",
       "      <td>16</td>\n",
       "      <td>4.0</td>\n",
       "      <td>247.5</td>\n",
       "      <td>24850.0</td>\n",
       "      <td>47550.0</td>\n",
       "      <td>True</td>\n",
       "      <td>50</td>\n",
       "      <td>52.35</td>\n",
       "      <td>16481</td>\n",
       "      <td>True</td>\n",
       "      <td>False</td>\n",
       "      <td>899.0</td>\n",
       "      <td>124.0</td>\n",
       "    </tr>\n",
       "    <tr>\n",
       "      <th>8</th>\n",
       "      <td>16</td>\n",
       "      <td>4.1</td>\n",
       "      <td>247.5</td>\n",
       "      <td>24850.0</td>\n",
       "      <td>47550.0</td>\n",
       "      <td>True</td>\n",
       "      <td>50</td>\n",
       "      <td>52.35</td>\n",
       "      <td>16481</td>\n",
       "      <td>True</td>\n",
       "      <td>False</td>\n",
       "      <td>279.0</td>\n",
       "      <td>124.0</td>\n",
       "    </tr>\n",
       "    <tr>\n",
       "      <th>9</th>\n",
       "      <td>42</td>\n",
       "      <td>3.3</td>\n",
       "      <td>247.5</td>\n",
       "      <td>24850.0</td>\n",
       "      <td>47550.0</td>\n",
       "      <td>True</td>\n",
       "      <td>50</td>\n",
       "      <td>3.30</td>\n",
       "      <td>122834</td>\n",
       "      <td>False</td>\n",
       "      <td>False</td>\n",
       "      <td>384.0</td>\n",
       "      <td>220.0</td>\n",
       "    </tr>\n",
       "    <tr>\n",
       "      <th>10</th>\n",
       "      <td>33</td>\n",
       "      <td>3.0</td>\n",
       "      <td>247.5</td>\n",
       "      <td>24850.0</td>\n",
       "      <td>47550.0</td>\n",
       "      <td>True</td>\n",
       "      <td>50</td>\n",
       "      <td>8.40</td>\n",
       "      <td>95451</td>\n",
       "      <td>False</td>\n",
       "      <td>False</td>\n",
       "      <td>1504.0</td>\n",
       "      <td>102.0</td>\n",
       "    </tr>\n",
       "    <tr>\n",
       "      <th>11</th>\n",
       "      <td>8</td>\n",
       "      <td>3.1</td>\n",
       "      <td>247.5</td>\n",
       "      <td>24850.0</td>\n",
       "      <td>47550.0</td>\n",
       "      <td>True</td>\n",
       "      <td>50</td>\n",
       "      <td>21.00</td>\n",
       "      <td>121581</td>\n",
       "      <td>True</td>\n",
       "      <td>False</td>\n",
       "      <td>1945.0</td>\n",
       "      <td>1314.0</td>\n",
       "    </tr>\n",
       "    <tr>\n",
       "      <th>12</th>\n",
       "      <td>29</td>\n",
       "      <td>3.2</td>\n",
       "      <td>200.0</td>\n",
       "      <td>24850.0</td>\n",
       "      <td>47550.0</td>\n",
       "      <td>True</td>\n",
       "      <td>50</td>\n",
       "      <td>16.00</td>\n",
       "      <td>44245</td>\n",
       "      <td>True</td>\n",
       "      <td>False</td>\n",
       "      <td>3039.5</td>\n",
       "      <td>68.0</td>\n",
       "    </tr>\n",
       "    <tr>\n",
       "      <th>13</th>\n",
       "      <td>33</td>\n",
       "      <td>4.2</td>\n",
       "      <td>247.5</td>\n",
       "      <td>24850.0</td>\n",
       "      <td>47550.0</td>\n",
       "      <td>True</td>\n",
       "      <td>50</td>\n",
       "      <td>9.70</td>\n",
       "      <td>55216</td>\n",
       "      <td>False</td>\n",
       "      <td>False</td>\n",
       "      <td>2412.0</td>\n",
       "      <td>68.0</td>\n",
       "    </tr>\n",
       "    <tr>\n",
       "      <th>14</th>\n",
       "      <td>25</td>\n",
       "      <td>4.4</td>\n",
       "      <td>247.5</td>\n",
       "      <td>24850.0</td>\n",
       "      <td>47550.0</td>\n",
       "      <td>True</td>\n",
       "      <td>50</td>\n",
       "      <td>52.35</td>\n",
       "      <td>55416</td>\n",
       "      <td>False</td>\n",
       "      <td>False</td>\n",
       "      <td>2803.0</td>\n",
       "      <td>69.0</td>\n",
       "    </tr>\n",
       "    <tr>\n",
       "      <th>15</th>\n",
       "      <td>20</td>\n",
       "      <td>2.8</td>\n",
       "      <td>192.0</td>\n",
       "      <td>24850.0</td>\n",
       "      <td>47550.0</td>\n",
       "      <td>True</td>\n",
       "      <td>50</td>\n",
       "      <td>26.00</td>\n",
       "      <td>54848</td>\n",
       "      <td>False</td>\n",
       "      <td>False</td>\n",
       "      <td>227.0</td>\n",
       "      <td>107.0</td>\n",
       "    </tr>\n",
       "    <tr>\n",
       "      <th>16</th>\n",
       "      <td>13</td>\n",
       "      <td>4.4</td>\n",
       "      <td>247.5</td>\n",
       "      <td>24850.0</td>\n",
       "      <td>47550.0</td>\n",
       "      <td>True</td>\n",
       "      <td>50</td>\n",
       "      <td>52.35</td>\n",
       "      <td>135487</td>\n",
       "      <td>True</td>\n",
       "      <td>False</td>\n",
       "      <td>3039.5</td>\n",
       "      <td>69.0</td>\n",
       "    </tr>\n",
       "    <tr>\n",
       "      <th>17</th>\n",
       "      <td>32</td>\n",
       "      <td>4.5</td>\n",
       "      <td>247.5</td>\n",
       "      <td>24850.0</td>\n",
       "      <td>47550.0</td>\n",
       "      <td>True</td>\n",
       "      <td>50</td>\n",
       "      <td>9.70</td>\n",
       "      <td>55216</td>\n",
       "      <td>False</td>\n",
       "      <td>False</td>\n",
       "      <td>2978.0</td>\n",
       "      <td>292.0</td>\n",
       "    </tr>\n",
       "    <tr>\n",
       "      <th>18</th>\n",
       "      <td>42</td>\n",
       "      <td>4.3</td>\n",
       "      <td>247.5</td>\n",
       "      <td>24850.0</td>\n",
       "      <td>47550.0</td>\n",
       "      <td>True</td>\n",
       "      <td>50</td>\n",
       "      <td>1.50</td>\n",
       "      <td>125044</td>\n",
       "      <td>False</td>\n",
       "      <td>False</td>\n",
       "      <td>746.0</td>\n",
       "      <td>395.0</td>\n",
       "    </tr>\n",
       "    <tr>\n",
       "      <th>19</th>\n",
       "      <td>42</td>\n",
       "      <td>4.9</td>\n",
       "      <td>247.5</td>\n",
       "      <td>24850.0</td>\n",
       "      <td>47550.0</td>\n",
       "      <td>True</td>\n",
       "      <td>50</td>\n",
       "      <td>8.10</td>\n",
       "      <td>130647</td>\n",
       "      <td>True</td>\n",
       "      <td>False</td>\n",
       "      <td>746.0</td>\n",
       "      <td>76.0</td>\n",
       "    </tr>\n",
       "  </tbody>\n",
       "</table>\n",
       "</div>"
      ],
      "text/plain": [
       "    Category  Rating  Rating Count  Installs  Maximum Installs  Free  \\\n",
       "0         13     3.6         247.5   24850.0           47550.0  True   \n",
       "1         41     4.3         247.5   24850.0           47550.0  True   \n",
       "2         42     4.2         247.5   24850.0           47550.0  True   \n",
       "3          8     4.2         247.5   24850.0           47550.0  True   \n",
       "4         28     4.2         247.5   24850.0           47550.0  True   \n",
       "5         25     3.5         247.5   10000.0           38029.0  True   \n",
       "6         24     4.4         247.5   24850.0           47550.0  True   \n",
       "7         16     4.0         247.5   24850.0           47550.0  True   \n",
       "8         16     4.1         247.5   24850.0           47550.0  True   \n",
       "9         42     3.3         247.5   24850.0           47550.0  True   \n",
       "10        33     3.0         247.5   24850.0           47550.0  True   \n",
       "11         8     3.1         247.5   24850.0           47550.0  True   \n",
       "12        29     3.2         200.0   24850.0           47550.0  True   \n",
       "13        33     4.2         247.5   24850.0           47550.0  True   \n",
       "14        25     4.4         247.5   24850.0           47550.0  True   \n",
       "15        20     2.8         192.0   24850.0           47550.0  True   \n",
       "16        13     4.4         247.5   24850.0           47550.0  True   \n",
       "17        32     4.5         247.5   24850.0           47550.0  True   \n",
       "18        42     4.3         247.5   24850.0           47550.0  True   \n",
       "19        42     4.9         247.5   24850.0           47550.0  True   \n",
       "\n",
       "    Currency   Size  Developer Id  In App Purchases  Editors Choice  Tenurity  \\\n",
       "0         50   2.70        145615             False           False    2729.0   \n",
       "1         50  52.35        119922              True           False     927.0   \n",
       "2         50   5.80        132141             False           False    1791.0   \n",
       "3         50  52.35         86333              True           False    3039.5   \n",
       "4         50  29.00         13241             False           False    1590.0   \n",
       "5         50  12.00        155458             False           False     727.0   \n",
       "6         50   9.40         68137              True           False    1117.0   \n",
       "7         50  52.35         16481              True           False     899.0   \n",
       "8         50  52.35         16481              True           False     279.0   \n",
       "9         50   3.30        122834             False           False     384.0   \n",
       "10        50   8.40         95451             False           False    1504.0   \n",
       "11        50  21.00        121581              True           False    1945.0   \n",
       "12        50  16.00         44245              True           False    3039.5   \n",
       "13        50   9.70         55216             False           False    2412.0   \n",
       "14        50  52.35         55416             False           False    2803.0   \n",
       "15        50  26.00         54848             False           False     227.0   \n",
       "16        50  52.35        135487              True           False    3039.5   \n",
       "17        50   9.70         55216             False           False    2978.0   \n",
       "18        50   1.50        125044             False           False     746.0   \n",
       "19        50   8.10        130647              True           False     746.0   \n",
       "\n",
       "    Maintaninance  \n",
       "0          1352.0  \n",
       "1            66.0  \n",
       "2           102.0  \n",
       "3            69.0  \n",
       "4            70.0  \n",
       "5            86.0  \n",
       "6           489.0  \n",
       "7           124.0  \n",
       "8           124.0  \n",
       "9           220.0  \n",
       "10          102.0  \n",
       "11         1314.0  \n",
       "12           68.0  \n",
       "13           68.0  \n",
       "14           69.0  \n",
       "15          107.0  \n",
       "16           69.0  \n",
       "17          292.0  \n",
       "18          395.0  \n",
       "19           76.0  "
      ]
     },
     "execution_count": 47,
     "metadata": {},
     "output_type": "execute_result"
    }
   ],
   "source": [
    "x.head(20)"
   ]
  },
  {
   "cell_type": "code",
   "execution_count": 94,
   "metadata": {},
   "outputs": [
    {
     "data": {
      "text/plain": [
       "<matplotlib.axes._subplots.AxesSubplot at 0x2392fb11ac8>"
      ]
     },
     "execution_count": 94,
     "metadata": {},
     "output_type": "execute_result"
    },
    {
     "data": {
      "image/png": "[encoded data removed]",
      "text/plain": [
       "<Figure size 842.4x595.44 with 1 Axes>"
      ]
     },
     "metadata": {},
     "output_type": "display_data"
    }
   ],
   "source": [
    "data.plot.scatter(x='Rating',\n",
    "                      y='Maximum Installs',\n",
    "                      c='DarkBlue')"
   ]
  },
  {
   "cell_type": "code",
   "execution_count": 52,
   "metadata": {},
   "outputs": [],
   "source": [
    "from sklearn.ensemble import RandomForestClassifier"
   ]
  },
  {
   "cell_type": "code",
   "execution_count": 83,
   "metadata": {},
   "outputs": [],
   "source": [
    "rf = RandomForestClassifier()"
   ]
  },
  {
   "cell_type": "code",
   "execution_count": 84,
   "metadata": {},
   "outputs": [
    {
     "data": {
      "text/plain": [
       "RandomForestClassifier(bootstrap=True, ccp_alpha=0.0, class_weight=None,\n",
       "                       criterion='gini', max_depth=None, max_features='auto',\n",
       "                       max_leaf_nodes=None, max_samples=None,\n",
       "                       min_impurity_decrease=0.0, min_impurity_split=None,\n",
       "                       min_samples_leaf=1, min_samples_split=2,\n",
       "                       min_weight_fraction_leaf=0.0, n_estimators=100,\n",
       "                       n_jobs=None, oob_score=False, random_state=None,\n",
       "                       verbose=0, warm_start=False)"
      ]
     },
     "execution_count": 84,
     "metadata": {},
     "output_type": "execute_result"
    }
   ],
   "source": [
    "rf.fit(x_train, y_train)"
   ]
  },
  {
   "cell_type": "code",
   "execution_count": 85,
   "metadata": {},
   "outputs": [],
   "source": [
    "y_pred = rf.predict(x_test)"
   ]
  },
  {
   "cell_type": "code",
   "execution_count": 86,
   "metadata": {},
   "outputs": [
    {
     "data": {
      "text/plain": [
       "array([ True,  True, False, ...,  True,  True,  True])"
      ]
     },
     "execution_count": 86,
     "metadata": {},
     "output_type": "execute_result"
    }
   ],
   "source": [
    "y_pred"
   ]
  },
  {
   "cell_type": "code",
   "execution_count": 87,
   "metadata": {},
   "outputs": [],
   "source": [
    "from sklearn.metrics import accuracy_score,confusion_matrix,f1_score"
   ]
  },
  {
   "cell_type": "code",
   "execution_count": 88,
   "metadata": {},
   "outputs": [
    {
     "data": {
      "text/plain": [
       "0.8390943888958449"
      ]
     },
     "execution_count": 88,
     "metadata": {},
     "output_type": "execute_result"
    }
   ],
   "source": [
    "accuracy_score(y_pred , y_test)"
   ]
  },
  {
   "cell_type": "code",
   "execution_count": 89,
   "metadata": {},
   "outputs": [
    {
     "data": {
      "text/plain": [
       "array([[ 53648,  11586],\n",
       "       [ 24397, 133997]], dtype=int64)"
      ]
     },
     "execution_count": 89,
     "metadata": {},
     "output_type": "execute_result"
    }
   ],
   "source": [
    "confusion_matrix(y_pred , y_test)"
   ]
  },
  {
   "cell_type": "code",
   "execution_count": 90,
   "metadata": {},
   "outputs": [
    {
     "data": {
      "text/plain": [
       "0.8816259124868"
      ]
     },
     "execution_count": 90,
     "metadata": {},
     "output_type": "execute_result"
    }
   ],
   "source": [
    "f1_score(y_pred , y_test)"
   ]
  },
  {
   "cell_type": "code",
   "execution_count": 91,
   "metadata": {},
   "outputs": [
    {
     "data": {
      "text/html": [
       "<div>\n",
       "<style scoped>\n",
       "    .dataframe tbody tr th:only-of-type {\n",
       "        vertical-align: middle;\n",
       "    }\n",
       "\n",
       "    .dataframe tbody tr th {\n",
       "        vertical-align: top;\n",
       "    }\n",
       "\n",
       "    .dataframe thead th {\n",
       "        text-align: right;\n",
       "    }\n",
       "</style>\n",
       "<table border=\"1\" class=\"dataframe\">\n",
       "  <thead>\n",
       "    <tr style=\"text-align: right;\">\n",
       "      <th></th>\n",
       "      <th>0</th>\n",
       "    </tr>\n",
       "    <tr>\n",
       "      <th>Ad Supported</th>\n",
       "      <th></th>\n",
       "    </tr>\n",
       "  </thead>\n",
       "  <tbody>\n",
       "    <tr>\n",
       "      <th>True</th>\n",
       "      <td>True</td>\n",
       "    </tr>\n",
       "    <tr>\n",
       "      <th>False</th>\n",
       "      <td>False</td>\n",
       "    </tr>\n",
       "    <tr>\n",
       "      <th>True</th>\n",
       "      <td>True</td>\n",
       "    </tr>\n",
       "    <tr>\n",
       "      <th>False</th>\n",
       "      <td>True</td>\n",
       "    </tr>\n",
       "    <tr>\n",
       "      <th>True</th>\n",
       "      <td>True</td>\n",
       "    </tr>\n",
       "    <tr>\n",
       "      <th>False</th>\n",
       "      <td>False</td>\n",
       "    </tr>\n",
       "    <tr>\n",
       "      <th>False</th>\n",
       "      <td>False</td>\n",
       "    </tr>\n",
       "    <tr>\n",
       "      <th>True</th>\n",
       "      <td>True</td>\n",
       "    </tr>\n",
       "    <tr>\n",
       "      <th>False</th>\n",
       "      <td>False</td>\n",
       "    </tr>\n",
       "    <tr>\n",
       "      <th>True</th>\n",
       "      <td>True</td>\n",
       "    </tr>\n",
       "    <tr>\n",
       "      <th>True</th>\n",
       "      <td>True</td>\n",
       "    </tr>\n",
       "    <tr>\n",
       "      <th>True</th>\n",
       "      <td>True</td>\n",
       "    </tr>\n",
       "    <tr>\n",
       "      <th>True</th>\n",
       "      <td>True</td>\n",
       "    </tr>\n",
       "    <tr>\n",
       "      <th>True</th>\n",
       "      <td>True</td>\n",
       "    </tr>\n",
       "    <tr>\n",
       "      <th>True</th>\n",
       "      <td>True</td>\n",
       "    </tr>\n",
       "  </tbody>\n",
       "</table>\n",
       "</div>"
      ],
      "text/plain": [
       "                  0\n",
       "Ad Supported       \n",
       "True           True\n",
       "False         False\n",
       "True           True\n",
       "False          True\n",
       "True           True\n",
       "False         False\n",
       "False         False\n",
       "True           True\n",
       "False         False\n",
       "True           True\n",
       "True           True\n",
       "True           True\n",
       "True           True\n",
       "True           True\n",
       "True           True"
      ]
     },
     "execution_count": 91,
     "metadata": {},
     "output_type": "execute_result"
    }
   ],
   "source": [
    "pd.DataFrame(y_pred,y_test).tail(15)"
   ]
  },
  {
   "cell_type": "code",
   "execution_count": null,
   "metadata": {},
   "outputs": [],
   "source": []
  },
  {
   "cell_type": "code",
   "execution_count": null,
   "metadata": {},
   "outputs": [],
   "source": []
  },
  {
   "cell_type": "code",
   "execution_count": null,
   "metadata": {},
   "outputs": [],
   "source": []
  },
  {
   "cell_type": "code",
   "execution_count": null,
   "metadata": {},
   "outputs": [],
   "source": []
  },
  {
   "cell_type": "code",
   "execution_count": null,
   "metadata": {},
   "outputs": [],
   "source": []
  }
 ],
 "metadata": {
  "kernelspec": {
   "display_name": "Python 3",
   "language": "python",
   "name": "python3"
  },
  "language_info": {
   "codemirror_mode": {
    "name": "ipython",
    "version": 3
   },
   "file_extension": ".py",
   "mimetype": "text/x-python",
   "name": "python",
   "nbconvert_exporter": "python",
   "pygments_lexer": "ipython3",
   "version": "3.7.6"
  }
 },
 "nbformat": 4,
 "nbformat_minor": 2
}
